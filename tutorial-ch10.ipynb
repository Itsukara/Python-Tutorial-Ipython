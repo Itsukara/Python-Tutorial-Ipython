{
 "cells": [
  {
   "cell_type": "markdown",
   "metadata": {},
   "source": [
    "**【Jupyter Notebookとしての注意】**\n",
    "+ 本ファイルはJupyter Notbook形式で記載するので 、(>>> や ...) といったプロンプトはプログラム例から削除しています。\n",
    "+ 対話形式では、式を入れると値が表示されますが、Jupyter Notbookでは、最後の結果しか表示されないため、プログラム例に適宜「print」を追加しています。\n",
    "+ print文で表示すると文字列の表現等が異なるため、プログラム例では、適宜、式に対して「repr」という関数を適用した結果をprintしています。"
   ]
  },
  {
   "cell_type": "markdown",
   "metadata": {},
   "source": [
    "# 10. 標準ライブラリミニツアー\n",
    "## 10.1. OSへのインタフェース\n",
    "os モジュールは、オペレーティングシステムと対話するための何ダースもの関数を提供しています:"
   ]
  },
  {
   "cell_type": "code",
   "execution_count": 1,
   "metadata": {
    "collapsed": false
   },
   "outputs": [
    {
     "name": "stdout",
     "output_type": "stream",
     "text": [
      "F:\\Develop\\Python\\Python-Tutorial-Jupyter\n",
      "None\n"
     ]
    }
   ],
   "source": [
    "import os\n",
    "print os.getcwd()\n",
    "\n",
    "os.system('mkdir today')\n",
    "print os.chdir('today')"
   ]
  },
  {
   "cell_type": "markdown",
   "metadata": {},
   "source": [
    "from os import \\* ではなく、 import os 形式を使うようにしてください。そうすることで、動作が大きく異なる組み込み関数 open() が os.open() で遮蔽されるのを避けられます。\n",
    "\n",
    "組み込み関数 dir() および help() は、 os のような大規模なモジュールで作業をするときに、対話的な操作上の助けになります:"
   ]
  },
  {
   "cell_type": "code",
   "execution_count": 2,
   "metadata": {
    "collapsed": false
   },
   "outputs": [
    {
     "name": "stdout",
     "output_type": "stream",
     "text": [
      "['F_OK', 'O_APPEND', 'O_BINARY', 'O_CREAT', 'O_EXCL', 'O_NOINHERIT', 'O_RANDOM', 'O_RDONLY', 'O_RDWR', 'O_SEQUENTIAL', 'O_SHORT_LIVED', 'O_TEMPORARY', 'O_TEXT', 'O_TRUNC', 'O_WRONLY', 'P_DETACH', 'P_NOWAIT', 'P_NOWAITO', 'P_OVERLAY', 'P_WAIT', 'R_OK', 'SEEK_CUR', 'SEEK_END', 'SEEK_SET', 'TMP_MAX', 'UserDict', 'W_OK', 'X_OK', '_Environ', '__all__', '__builtins__', '__doc__', '__file__', '__name__', '__package__', '_copy_reg', '_execvpe', '_exists', '_exit', '_get_exports_list', '_make_stat_result', '_make_statvfs_result', '_pickle_stat_result', '_pickle_statvfs_result', 'abort', 'access', 'altsep', 'chdir', 'chmod', 'close', 'closerange', 'curdir', 'defpath', 'devnull', 'dup', 'dup2', 'environ', 'errno', 'error', 'execl', 'execle', 'execlp', 'execlpe', 'execv', 'execve', 'execvp', 'execvpe', 'extsep', 'fdopen', 'fstat', 'fsync', 'getcwd', 'getcwdu', 'getenv', 'getpid', 'isatty', 'kill', 'linesep', 'listdir', 'lseek', 'lstat', 'makedirs', 'mkdir', 'name', 'open', 'pardir', 'path', 'pathsep', 'pipe', 'popen', 'popen2', 'popen3', 'popen4', 'putenv', 'read', 'remove', 'removedirs', 'rename', 'renames', 'rmdir', 'sep', 'spawnl', 'spawnle', 'spawnv', 'spawnve', 'startfile', 'stat', 'stat_float_times', 'stat_result', 'statvfs_result', 'strerror', 'sys', 'system', 'tempnam', 'times', 'tmpfile', 'tmpnam', 'umask', 'unlink', 'unsetenv', 'urandom', 'utime', 'waitpid', 'walk', 'write']\n",
      "Help on module os:\n",
      "\n",
      "NAME\n",
      "    os - OS routines for NT or Posix depending on what system we're on.\n",
      "\n",
      "FILE\n",
      "    c:\\programs\\anaconda2\\lib\\os.py\n",
      "\n",
      "DESCRIPTION\n",
      "    This exports:\n",
      "      - all functions from posix, nt, os2, or ce, e.g. unlink, stat, etc.\n",
      "      - os.path is one of the modules posixpath, or ntpath\n",
      "      - os.name is 'posix', 'nt', 'os2', 'ce' or 'riscos'\n",
      "      - os.curdir is a string representing the current directory ('.' or ':')\n",
      "      - os.pardir is a string representing the parent directory ('..' or '::')\n",
      "      - os.sep is the (or a most common) pathname separator ('/' or ':' or '\\\\')\n",
      "      - os.extsep is the extension separator ('.' or '/')\n",
      "      - os.altsep is the alternate pathname separator (None or '/')\n",
      "      - os.pathsep is the component separator used in $PATH etc\n",
      "      - os.linesep is the line separator in text files ('\\r' or '\\n' or '\\r\\n')\n",
      "      - os.defpath is the default search path for executables\n",
      "      - os.devnull is the file path of the null device ('/dev/null', etc.)\n",
      "    \n",
      "    Programs that import and use 'os' stand a better chance of being\n",
      "    portable between different platforms.  Of course, they must then\n",
      "    only use functions that are defined by all platforms (e.g., unlink\n",
      "    and opendir), and leave all pathname manipulation to os.path\n",
      "    (e.g., split and join).\n",
      "\n",
      "CLASSES\n",
      "    __builtin__.object\n",
      "        nt.stat_result\n",
      "        nt.statvfs_result\n",
      "    exceptions.EnvironmentError(exceptions.StandardError)\n",
      "        exceptions.OSError\n",
      "    \n",
      "    error = class OSError(EnvironmentError)\n",
      "     |  OS system call failed.\n",
      "     |  \n",
      "     |  Method resolution order:\n",
      "     |      OSError\n",
      "     |      EnvironmentError\n",
      "     |      StandardError\n",
      "     |      Exception\n",
      "     |      BaseException\n",
      "     |      __builtin__.object\n",
      "     |  \n",
      "     |  Methods defined here:\n",
      "     |  \n",
      "     |  __init__(...)\n",
      "     |      x.__init__(...) initializes x; see help(type(x)) for signature\n",
      "     |  \n",
      "     |  ----------------------------------------------------------------------\n",
      "     |  Data and other attributes defined here:\n",
      "     |  \n",
      "     |  __new__ = <built-in method __new__ of type object>\n",
      "     |      T.__new__(S, ...) -> a new object with type S, a subtype of T\n",
      "     |  \n",
      "     |  ----------------------------------------------------------------------\n",
      "     |  Methods inherited from EnvironmentError:\n",
      "     |  \n",
      "     |  __reduce__(...)\n",
      "     |  \n",
      "     |  __str__(...)\n",
      "     |      x.__str__() <==> str(x)\n",
      "     |  \n",
      "     |  ----------------------------------------------------------------------\n",
      "     |  Data descriptors inherited from EnvironmentError:\n",
      "     |  \n",
      "     |  errno\n",
      "     |      exception errno\n",
      "     |  \n",
      "     |  filename\n",
      "     |      exception filename\n",
      "     |  \n",
      "     |  strerror\n",
      "     |      exception strerror\n",
      "     |  \n",
      "     |  ----------------------------------------------------------------------\n",
      "     |  Methods inherited from BaseException:\n",
      "     |  \n",
      "     |  __delattr__(...)\n",
      "     |      x.__delattr__('name') <==> del x.name\n",
      "     |  \n",
      "     |  __getattribute__(...)\n",
      "     |      x.__getattribute__('name') <==> x.name\n",
      "     |  \n",
      "     |  __getitem__(...)\n",
      "     |      x.__getitem__(y) <==> x[y]\n",
      "     |  \n",
      "     |  __getslice__(...)\n",
      "     |      x.__getslice__(i, j) <==> x[i:j]\n",
      "     |      \n",
      "     |      Use of negative indices is not supported.\n",
      "     |  \n",
      "     |  __repr__(...)\n",
      "     |      x.__repr__() <==> repr(x)\n",
      "     |  \n",
      "     |  __setattr__(...)\n",
      "     |      x.__setattr__('name', value) <==> x.name = value\n",
      "     |  \n",
      "     |  __setstate__(...)\n",
      "     |  \n",
      "     |  __unicode__(...)\n",
      "     |  \n",
      "     |  ----------------------------------------------------------------------\n",
      "     |  Data descriptors inherited from BaseException:\n",
      "     |  \n",
      "     |  __dict__\n",
      "     |  \n",
      "     |  args\n",
      "     |  \n",
      "     |  message\n",
      "    \n",
      "    class stat_result(__builtin__.object)\n",
      "     |  stat_result: Result from stat or lstat.\n",
      "     |  \n",
      "     |  This object may be accessed either as a tuple of\n",
      "     |    (mode, ino, dev, nlink, uid, gid, size, atime, mtime, ctime)\n",
      "     |  or via the attributes st_mode, st_ino, st_dev, st_nlink, st_uid, and so on.\n",
      "     |  \n",
      "     |  Posix/windows: If your platform supports st_blksize, st_blocks, st_rdev,\n",
      "     |  or st_flags, they are available as attributes only.\n",
      "     |  \n",
      "     |  See os.stat for more information.\n",
      "     |  \n",
      "     |  Methods defined here:\n",
      "     |  \n",
      "     |  __add__(...)\n",
      "     |      x.__add__(y) <==> x+y\n",
      "     |  \n",
      "     |  __contains__(...)\n",
      "     |      x.__contains__(y) <==> y in x\n",
      "     |  \n",
      "     |  __eq__(...)\n",
      "     |      x.__eq__(y) <==> x==y\n",
      "     |  \n",
      "     |  __ge__(...)\n",
      "     |      x.__ge__(y) <==> x>=y\n",
      "     |  \n",
      "     |  __getitem__(...)\n",
      "     |      x.__getitem__(y) <==> x[y]\n",
      "     |  \n",
      "     |  __getslice__(...)\n",
      "     |      x.__getslice__(i, j) <==> x[i:j]\n",
      "     |      \n",
      "     |      Use of negative indices is not supported.\n",
      "     |  \n",
      "     |  __gt__(...)\n",
      "     |      x.__gt__(y) <==> x>y\n",
      "     |  \n",
      "     |  __hash__(...)\n",
      "     |      x.__hash__() <==> hash(x)\n",
      "     |  \n",
      "     |  __le__(...)\n",
      "     |      x.__le__(y) <==> x<=y\n",
      "     |  \n",
      "     |  __len__(...)\n",
      "     |      x.__len__() <==> len(x)\n",
      "     |  \n",
      "     |  __lt__(...)\n",
      "     |      x.__lt__(y) <==> x<y\n",
      "     |  \n",
      "     |  __mul__(...)\n",
      "     |      x.__mul__(n) <==> x*n\n",
      "     |  \n",
      "     |  __ne__(...)\n",
      "     |      x.__ne__(y) <==> x!=y\n",
      "     |  \n",
      "     |  __reduce__(...)\n",
      "     |  \n",
      "     |  __repr__(...)\n",
      "     |      x.__repr__() <==> repr(x)\n",
      "     |  \n",
      "     |  __rmul__(...)\n",
      "     |      x.__rmul__(n) <==> n*x\n",
      "     |  \n",
      "     |  ----------------------------------------------------------------------\n",
      "     |  Data descriptors defined here:\n",
      "     |  \n",
      "     |  st_atime\n",
      "     |      time of last access\n",
      "     |  \n",
      "     |  st_ctime\n",
      "     |      time of last change\n",
      "     |  \n",
      "     |  st_dev\n",
      "     |      device\n",
      "     |  \n",
      "     |  st_gid\n",
      "     |      group ID of owner\n",
      "     |  \n",
      "     |  st_ino\n",
      "     |      inode\n",
      "     |  \n",
      "     |  st_mode\n",
      "     |      protection bits\n",
      "     |  \n",
      "     |  st_mtime\n",
      "     |      time of last modification\n",
      "     |  \n",
      "     |  st_nlink\n",
      "     |      number of hard links\n",
      "     |  \n",
      "     |  st_size\n",
      "     |      total size, in bytes\n",
      "     |  \n",
      "     |  st_uid\n",
      "     |      user ID of owner\n",
      "     |  \n",
      "     |  ----------------------------------------------------------------------\n",
      "     |  Data and other attributes defined here:\n",
      "     |  \n",
      "     |  __new__ = <built-in method __new__ of type object>\n",
      "     |      T.__new__(S, ...) -> a new object with type S, a subtype of T\n",
      "     |  \n",
      "     |  n_fields = 13\n",
      "     |  \n",
      "     |  n_sequence_fields = 10\n",
      "     |  \n",
      "     |  n_unnamed_fields = 3\n",
      "    \n",
      "    class statvfs_result(__builtin__.object)\n",
      "     |  statvfs_result: Result from statvfs or fstatvfs.\n",
      "     |  \n",
      "     |  This object may be accessed either as a tuple of\n",
      "     |    (bsize, frsize, blocks, bfree, bavail, files, ffree, favail, flag, namemax),\n",
      "     |  or via the attributes f_bsize, f_frsize, f_blocks, f_bfree, and so on.\n",
      "     |  \n",
      "     |  See os.statvfs for more information.\n",
      "     |  \n",
      "     |  Methods defined here:\n",
      "     |  \n",
      "     |  __add__(...)\n",
      "     |      x.__add__(y) <==> x+y\n",
      "     |  \n",
      "     |  __contains__(...)\n",
      "     |      x.__contains__(y) <==> y in x\n",
      "     |  \n",
      "     |  __eq__(...)\n",
      "     |      x.__eq__(y) <==> x==y\n",
      "     |  \n",
      "     |  __ge__(...)\n",
      "     |      x.__ge__(y) <==> x>=y\n",
      "     |  \n",
      "     |  __getitem__(...)\n",
      "     |      x.__getitem__(y) <==> x[y]\n",
      "     |  \n",
      "     |  __getslice__(...)\n",
      "     |      x.__getslice__(i, j) <==> x[i:j]\n",
      "     |      \n",
      "     |      Use of negative indices is not supported.\n",
      "     |  \n",
      "     |  __gt__(...)\n",
      "     |      x.__gt__(y) <==> x>y\n",
      "     |  \n",
      "     |  __hash__(...)\n",
      "     |      x.__hash__() <==> hash(x)\n",
      "     |  \n",
      "     |  __le__(...)\n",
      "     |      x.__le__(y) <==> x<=y\n",
      "     |  \n",
      "     |  __len__(...)\n",
      "     |      x.__len__() <==> len(x)\n",
      "     |  \n",
      "     |  __lt__(...)\n",
      "     |      x.__lt__(y) <==> x<y\n",
      "     |  \n",
      "     |  __mul__(...)\n",
      "     |      x.__mul__(n) <==> x*n\n",
      "     |  \n",
      "     |  __ne__(...)\n",
      "     |      x.__ne__(y) <==> x!=y\n",
      "     |  \n",
      "     |  __reduce__(...)\n",
      "     |  \n",
      "     |  __repr__(...)\n",
      "     |      x.__repr__() <==> repr(x)\n",
      "     |  \n",
      "     |  __rmul__(...)\n",
      "     |      x.__rmul__(n) <==> n*x\n",
      "     |  \n",
      "     |  ----------------------------------------------------------------------\n",
      "     |  Data descriptors defined here:\n",
      "     |  \n",
      "     |  f_bavail\n",
      "     |  \n",
      "     |  f_bfree\n",
      "     |  \n",
      "     |  f_blocks\n",
      "     |  \n",
      "     |  f_bsize\n",
      "     |  \n",
      "     |  f_favail\n",
      "     |  \n",
      "     |  f_ffree\n",
      "     |  \n",
      "     |  f_files\n",
      "     |  \n",
      "     |  f_flag\n",
      "     |  \n",
      "     |  f_frsize\n",
      "     |  \n",
      "     |  f_namemax\n",
      "     |  \n",
      "     |  ----------------------------------------------------------------------\n",
      "     |  Data and other attributes defined here:\n",
      "     |  \n",
      "     |  __new__ = <built-in method __new__ of type object>\n",
      "     |      T.__new__(S, ...) -> a new object with type S, a subtype of T\n",
      "     |  \n",
      "     |  n_fields = 10\n",
      "     |  \n",
      "     |  n_sequence_fields = 10\n",
      "     |  \n",
      "     |  n_unnamed_fields = 0\n",
      "\n",
      "FUNCTIONS\n",
      "    abort(...)\n",
      "        abort() -> does not return!\n",
      "        \n",
      "        Abort the interpreter immediately.  This 'dumps core' or otherwise fails\n",
      "        in the hardest way possible on the hosting operating system.\n",
      "    \n",
      "    access(...)\n",
      "        access(path, mode) -> True if granted, False otherwise\n",
      "        \n",
      "        Use the real uid/gid to test for access to a path.  Note that most\n",
      "        operations will use the effective uid/gid, therefore this routine can\n",
      "        be used in a suid/sgid environment to test if the invoking user has the\n",
      "        specified access to the path.  The mode argument can be F_OK to test\n",
      "        existence, or the inclusive-OR of R_OK, W_OK, and X_OK.\n",
      "    \n",
      "    chdir(...)\n",
      "        chdir(path)\n",
      "        \n",
      "        Change the current working directory to the specified path.\n",
      "    \n",
      "    chmod(...)\n",
      "        chmod(path, mode)\n",
      "        \n",
      "        Change the access permissions of a file.\n",
      "    \n",
      "    close(...)\n",
      "        close(fd)\n",
      "        \n",
      "        Close a file descriptor (for low level IO).\n",
      "    \n",
      "    closerange(...)\n",
      "        closerange(fd_low, fd_high)\n",
      "        \n",
      "        Closes all file descriptors in [fd_low, fd_high), ignoring errors.\n",
      "    \n",
      "    dup(...)\n",
      "        dup(fd) -> fd2\n",
      "        \n",
      "        Return a duplicate of a file descriptor.\n",
      "    \n",
      "    dup2(...)\n",
      "        dup2(old_fd, new_fd)\n",
      "        \n",
      "        Duplicate file descriptor.\n",
      "    \n",
      "    execl(file, *args)\n",
      "        execl(file, *args)\n",
      "        \n",
      "        Execute the executable file with argument list args, replacing the\n",
      "        current process.\n",
      "    \n",
      "    execle(file, *args)\n",
      "        execle(file, *args, env)\n",
      "        \n",
      "        Execute the executable file with argument list args and\n",
      "        environment env, replacing the current process.\n",
      "    \n",
      "    execlp(file, *args)\n",
      "        execlp(file, *args)\n",
      "        \n",
      "        Execute the executable file (which is searched for along $PATH)\n",
      "        with argument list args, replacing the current process.\n",
      "    \n",
      "    execlpe(file, *args)\n",
      "        execlpe(file, *args, env)\n",
      "        \n",
      "        Execute the executable file (which is searched for along $PATH)\n",
      "        with argument list args and environment env, replacing the current\n",
      "        process.\n",
      "    \n",
      "    execv(...)\n",
      "        execv(path, args)\n",
      "        \n",
      "        Execute an executable path with arguments, replacing current process.\n",
      "        \n",
      "            path: path of executable file\n",
      "            args: tuple or list of strings\n",
      "    \n",
      "    execve(...)\n",
      "        execve(path, args, env)\n",
      "        \n",
      "        Execute a path with arguments and environment, replacing current process.\n",
      "        \n",
      "            path: path of executable file\n",
      "            args: tuple or list of arguments\n",
      "            env: dictionary of strings mapping to strings\n",
      "    \n",
      "    execvp(file, args)\n",
      "        execvp(file, args)\n",
      "        \n",
      "        Execute the executable file (which is searched for along $PATH)\n",
      "        with argument list args, replacing the current process.\n",
      "        args may be a list or tuple of strings.\n",
      "    \n",
      "    execvpe(file, args, env)\n",
      "        execvpe(file, args, env)\n",
      "        \n",
      "        Execute the executable file (which is searched for along $PATH)\n",
      "        with argument list args and environment env , replacing the\n",
      "        current process.\n",
      "        args may be a list or tuple of strings.\n",
      "    \n",
      "    fdopen(...)\n",
      "        fdopen(fd [, mode='r' [, bufsize]]) -> file_object\n",
      "        \n",
      "        Return an open file object connected to a file descriptor.\n",
      "    \n",
      "    fstat(...)\n",
      "        fstat(fd) -> stat result\n",
      "        \n",
      "        Like stat(), but for an open file descriptor.\n",
      "    \n",
      "    fsync(...)\n",
      "        fsync(fildes)\n",
      "        \n",
      "        force write of file with filedescriptor to disk.\n",
      "    \n",
      "    getcwd(...)\n",
      "        getcwd() -> path\n",
      "        \n",
      "        Return a string representing the current working directory.\n",
      "    \n",
      "    getcwdu(...)\n",
      "        getcwdu() -> path\n",
      "        \n",
      "        Return a unicode string representing the current working directory.\n",
      "    \n",
      "    getenv(key, default=None)\n",
      "        Get an environment variable, return None if it doesn't exist.\n",
      "        The optional second argument can specify an alternate default.\n",
      "    \n",
      "    getpid(...)\n",
      "        getpid() -> pid\n",
      "        \n",
      "        Return the current process id\n",
      "    \n",
      "    isatty(...)\n",
      "        isatty(fd) -> bool\n",
      "        \n",
      "        Return True if the file descriptor 'fd' is an open file descriptor\n",
      "        connected to the slave end of a terminal.\n",
      "    \n",
      "    kill(...)\n",
      "        kill(pid, sig)\n",
      "        \n",
      "        Kill a process with a signal.\n",
      "    \n",
      "    listdir(...)\n",
      "        listdir(path) -> list_of_strings\n",
      "        \n",
      "        Return a list containing the names of the entries in the directory.\n",
      "        \n",
      "            path: path of directory to list\n",
      "        \n",
      "        The list is in arbitrary order.  It does not include the special\n",
      "        entries '.' and '..' even if they are present in the directory.\n",
      "    \n",
      "    lseek(...)\n",
      "        lseek(fd, pos, how) -> newpos\n",
      "        \n",
      "        Set the current position of a file descriptor.\n",
      "        Return the new cursor position in bytes, starting from the beginning.\n",
      "    \n",
      "    lstat(...)\n",
      "        lstat(path) -> stat result\n",
      "        \n",
      "        Like stat(path), but do not follow symbolic links.\n",
      "    \n",
      "    makedirs(name, mode=511)\n",
      "        makedirs(path [, mode=0777])\n",
      "        \n",
      "        Super-mkdir; create a leaf directory and all intermediate ones.\n",
      "        Works like mkdir, except that any intermediate path segment (not\n",
      "        just the rightmost) will be created if it does not exist.  This is\n",
      "        recursive.\n",
      "    \n",
      "    mkdir(...)\n",
      "        mkdir(path [, mode=0777])\n",
      "        \n",
      "        Create a directory.\n",
      "    \n",
      "    open(...)\n",
      "        open(filename, flag [, mode=0777]) -> fd\n",
      "        \n",
      "        Open a file (for low level IO).\n",
      "    \n",
      "    pipe(...)\n",
      "        pipe() -> (read_end, write_end)\n",
      "        \n",
      "        Create a pipe.\n",
      "    \n",
      "    popen(...)\n",
      "        popen(command [, mode='r' [, bufsize]]) -> pipe\n",
      "        \n",
      "        Open a pipe to/from a command returning a file object.\n",
      "    \n",
      "    popen2(...)\n",
      "    \n",
      "    popen3(...)\n",
      "    \n",
      "    popen4(...)\n",
      "    \n",
      "    putenv(...)\n",
      "        putenv(key, value)\n",
      "        \n",
      "        Change or add an environment variable.\n",
      "    \n",
      "    read(...)\n",
      "        read(fd, buffersize) -> string\n",
      "        \n",
      "        Read a file descriptor.\n",
      "    \n",
      "    remove(...)\n",
      "        remove(path)\n",
      "        \n",
      "        Remove a file (same as unlink(path)).\n",
      "    \n",
      "    removedirs(name)\n",
      "        removedirs(path)\n",
      "        \n",
      "        Super-rmdir; remove a leaf directory and all empty intermediate\n",
      "        ones.  Works like rmdir except that, if the leaf directory is\n",
      "        successfully removed, directories corresponding to rightmost path\n",
      "        segments will be pruned away until either the whole path is\n",
      "        consumed or an error occurs.  Errors during this latter phase are\n",
      "        ignored -- they generally mean that a directory was not empty.\n",
      "    \n",
      "    rename(...)\n",
      "        rename(old, new)\n",
      "        \n",
      "        Rename a file or directory.\n",
      "    \n",
      "    renames(old, new)\n",
      "        renames(old, new)\n",
      "        \n",
      "        Super-rename; create directories as necessary and delete any left\n",
      "        empty.  Works like rename, except creation of any intermediate\n",
      "        directories needed to make the new pathname good is attempted\n",
      "        first.  After the rename, directories corresponding to rightmost\n",
      "        path segments of the old name will be pruned until either the\n",
      "        whole path is consumed or a nonempty directory is found.\n",
      "        \n",
      "        Note: this function can fail with the new directory structure made\n",
      "        if you lack permissions needed to unlink the leaf directory or\n",
      "        file.\n",
      "    \n",
      "    rmdir(...)\n",
      "        rmdir(path)\n",
      "        \n",
      "        Remove a directory.\n",
      "    \n",
      "    spawnl(mode, file, *args)\n",
      "        spawnl(mode, file, *args) -> integer\n",
      "        \n",
      "        Execute file with arguments from args in a subprocess.\n",
      "        If mode == P_NOWAIT return the pid of the process.\n",
      "        If mode == P_WAIT return the process's exit code if it exits normally;\n",
      "        otherwise return -SIG, where SIG is the signal that killed it.\n",
      "    \n",
      "    spawnle(mode, file, *args)\n",
      "        spawnle(mode, file, *args, env) -> integer\n",
      "        \n",
      "        Execute file with arguments from args in a subprocess with the\n",
      "        supplied environment.\n",
      "        If mode == P_NOWAIT return the pid of the process.\n",
      "        If mode == P_WAIT return the process's exit code if it exits normally;\n",
      "        otherwise return -SIG, where SIG is the signal that killed it.\n",
      "    \n",
      "    spawnv(...)\n",
      "        spawnv(mode, path, args)\n",
      "        \n",
      "        Execute the program 'path' in a new process.\n",
      "        \n",
      "            mode: mode of process creation\n",
      "            path: path of executable file\n",
      "            args: tuple or list of strings\n",
      "    \n",
      "    spawnve(...)\n",
      "        spawnve(mode, path, args, env)\n",
      "        \n",
      "        Execute the program 'path' in a new process.\n",
      "        \n",
      "            mode: mode of process creation\n",
      "            path: path of executable file\n",
      "            args: tuple or list of arguments\n",
      "            env: dictionary of strings mapping to strings\n",
      "    \n",
      "    startfile(...)\n",
      "        startfile(filepath [, operation]) - Start a file with its associated\n",
      "        application.\n",
      "        \n",
      "        When \"operation\" is not specified or \"open\", this acts like\n",
      "        double-clicking the file in Explorer, or giving the file name as an\n",
      "        argument to the DOS \"start\" command: the file is opened with whatever\n",
      "        application (if any) its extension is associated.\n",
      "        When another \"operation\" is given, it specifies what should be done with\n",
      "        the file.  A typical operation is \"print\".\n",
      "        \n",
      "        startfile returns as soon as the associated application is launched.\n",
      "        There is no option to wait for the application to close, and no way\n",
      "        to retrieve the application's exit status.\n",
      "        \n",
      "        The filepath is relative to the current directory.  If you want to use\n",
      "        an absolute path, make sure the first character is not a slash (\"/\");\n",
      "        the underlying Win32 ShellExecute function doesn't work if it is.\n",
      "    \n",
      "    stat(...)\n",
      "        stat(path) -> stat result\n",
      "        \n",
      "        Perform a stat system call on the given path.\n",
      "    \n",
      "    stat_float_times(...)\n",
      "        stat_float_times([newval]) -> oldval\n",
      "        \n",
      "        Determine whether os.[lf]stat represents time stamps as float objects.\n",
      "        If newval is True, future calls to stat() return floats, if it is False,\n",
      "        future calls return ints. \n",
      "        If newval is omitted, return the current setting.\n",
      "    \n",
      "    strerror(...)\n",
      "        strerror(code) -> string\n",
      "        \n",
      "        Translate an error code to a message string.\n",
      "    \n",
      "    system(...)\n",
      "        system(command) -> exit_status\n",
      "        \n",
      "        Execute the command (a string) in a subshell.\n",
      "    \n",
      "    tempnam(...)\n",
      "        tempnam([dir[, prefix]]) -> string\n",
      "        \n",
      "        Return a unique name for a temporary file.\n",
      "        The directory and a prefix may be specified as strings; they may be omitted\n",
      "        or None if not needed.\n",
      "    \n",
      "    times(...)\n",
      "        times() -> (utime, stime, cutime, cstime, elapsed_time)\n",
      "        \n",
      "        Return a tuple of floating point numbers indicating process times.\n",
      "    \n",
      "    tmpfile(...)\n",
      "        tmpfile() -> file object\n",
      "        \n",
      "        Create a temporary file with no directory entries.\n",
      "    \n",
      "    tmpnam(...)\n",
      "        tmpnam() -> string\n",
      "        \n",
      "        Return a unique name for a temporary file.\n",
      "    \n",
      "    umask(...)\n",
      "        umask(new_mask) -> old_mask\n",
      "        \n",
      "        Set the current numeric umask and return the previous umask.\n",
      "    \n",
      "    unlink(...)\n",
      "        unlink(path)\n",
      "        \n",
      "        Remove a file (same as remove(path)).\n",
      "    \n",
      "    urandom(...)\n",
      "        urandom(n) -> str\n",
      "        \n",
      "        Return n random bytes suitable for cryptographic use.\n",
      "    \n",
      "    utime(...)\n",
      "        utime(path, (atime, mtime))\n",
      "        utime(path, None)\n",
      "        \n",
      "        Set the access and modified time of the file to the given values.  If the\n",
      "        second form is used, set the access and modified times to the current time.\n",
      "    \n",
      "    waitpid(...)\n",
      "        waitpid(pid, options) -> (pid, status << 8)\n",
      "        \n",
      "        Wait for completion of a given process.  options is ignored on Windows.\n",
      "    \n",
      "    walk(top, topdown=True, onerror=None, followlinks=False)\n",
      "        Directory tree generator.\n",
      "        \n",
      "        For each directory in the directory tree rooted at top (including top\n",
      "        itself, but excluding '.' and '..'), yields a 3-tuple\n",
      "        \n",
      "            dirpath, dirnames, filenames\n",
      "        \n",
      "        dirpath is a string, the path to the directory.  dirnames is a list of\n",
      "        the names of the subdirectories in dirpath (excluding '.' and '..').\n",
      "        filenames is a list of the names of the non-directory files in dirpath.\n",
      "        Note that the names in the lists are just names, with no path components.\n",
      "        To get a full path (which begins with top) to a file or directory in\n",
      "        dirpath, do os.path.join(dirpath, name).\n",
      "        \n",
      "        If optional arg 'topdown' is true or not specified, the triple for a\n",
      "        directory is generated before the triples for any of its subdirectories\n",
      "        (directories are generated top down).  If topdown is false, the triple\n",
      "        for a directory is generated after the triples for all of its\n",
      "        subdirectories (directories are generated bottom up).\n",
      "        \n",
      "        When topdown is true, the caller can modify the dirnames list in-place\n",
      "        (e.g., via del or slice assignment), and walk will only recurse into the\n",
      "        subdirectories whose names remain in dirnames; this can be used to prune the\n",
      "        search, or to impose a specific order of visiting.  Modifying dirnames when\n",
      "        topdown is false is ineffective, since the directories in dirnames have\n",
      "        already been generated by the time dirnames itself is generated. No matter\n",
      "        the value of topdown, the list of subdirectories is retrieved before the\n",
      "        tuples for the directory and its subdirectories are generated.\n",
      "        \n",
      "        By default errors from the os.listdir() call are ignored.  If\n",
      "        optional arg 'onerror' is specified, it should be a function; it\n",
      "        will be called with one argument, an os.error instance.  It can\n",
      "        report the error to continue with the walk, or raise the exception\n",
      "        to abort the walk.  Note that the filename is available as the\n",
      "        filename attribute of the exception object.\n",
      "        \n",
      "        By default, os.walk does not follow symbolic links to subdirectories on\n",
      "        systems that support them.  In order to get this functionality, set the\n",
      "        optional argument 'followlinks' to true.\n",
      "        \n",
      "        Caution:  if you pass a relative pathname for top, don't change the\n",
      "        current working directory between resumptions of walk.  walk never\n",
      "        changes the current directory, and assumes that the client doesn't\n",
      "        either.\n",
      "        \n",
      "        Example:\n",
      "        \n",
      "        import os\n",
      "        from os.path import join, getsize\n",
      "        for root, dirs, files in os.walk('python/Lib/email'):\n",
      "            print root, \"consumes\",\n",
      "            print sum([getsize(join(root, name)) for name in files]),\n",
      "            print \"bytes in\", len(files), \"non-directory files\"\n",
      "            if 'CVS' in dirs:\n",
      "                dirs.remove('CVS')  # don't visit CVS directories\n",
      "    \n",
      "    write(...)\n",
      "        write(fd, string) -> byteswritten\n",
      "        \n",
      "        Write a string to a file descriptor.\n",
      "\n",
      "DATA\n",
      "    F_OK = 0\n",
      "    O_APPEND = 8\n",
      "    O_BINARY = 32768\n",
      "    O_CREAT = 256\n",
      "    O_EXCL = 1024\n",
      "    O_NOINHERIT = 128\n",
      "    O_RANDOM = 16\n",
      "    O_RDONLY = 0\n",
      "    O_RDWR = 2\n",
      "    O_SEQUENTIAL = 32\n",
      "    O_SHORT_LIVED = 4096\n",
      "    O_TEMPORARY = 64\n",
      "    O_TEXT = 16384\n",
      "    O_TRUNC = 512\n",
      "    O_WRONLY = 1\n",
      "    P_DETACH = 4\n",
      "    P_NOWAIT = 1\n",
      "    P_NOWAITO = 3\n",
      "    P_OVERLAY = 2\n",
      "    P_WAIT = 0\n",
      "    R_OK = 4\n",
      "    SEEK_CUR = 1\n",
      "    SEEK_END = 2\n",
      "    SEEK_SET = 0\n",
      "    TMP_MAX = 32767\n",
      "    W_OK = 2\n",
      "    X_OK = 1\n",
      "    __all__ = ['altsep', 'curdir', 'pardir', 'sep', 'extsep', 'pathsep', '...\n",
      "    altsep = '/'\n",
      "    curdir = '.'\n",
      "    defpath = r'.;C:\\bin'\n",
      "    devnull = 'nul'\n",
      "    environ = {'TMP': 'C:\\\\Users\\\\Taka\\\\AppData\\\\Local\\\\Temp',..._EVENT': ...\n",
      "    extsep = '.'\n",
      "    linesep = '\\r\\n'\n",
      "    name = 'nt'\n",
      "    pardir = '..'\n",
      "    pathsep = ';'\n",
      "    sep = r'\\'\n",
      "\n",
      "\n"
     ]
    }
   ],
   "source": [
    "import os\n",
    "print dir(os)\n",
    "\n",
    "help(os)"
   ]
  },
  {
   "cell_type": "markdown",
   "metadata": {},
   "source": [
    "ファイルやディレクトリの日常的な管理作業のために、より簡単に使える高水準のインタフェースが shutil モジュールで提供されています:"
   ]
  },
  {
   "cell_type": "code",
   "execution_count": 3,
   "metadata": {
    "collapsed": false
   },
   "outputs": [
    {
     "data": {
      "text/plain": [
       "0"
      ]
     },
     "execution_count": 3,
     "metadata": {},
     "output_type": "execute_result"
    }
   ],
   "source": [
    "import shutil\n",
    "\n",
    "shutil.copyfile(r'..\\data.db', 'archive.db')\n",
    "shutil.move('archive.db', 'move.db')\n",
    "\n",
    "os.system('dir move.db')\n",
    "\n",
    "# cleanup\n",
    "os.system('del move.db')\n",
    "os.chdir(\"..\")\n",
    "os.system('rmdir today')"
   ]
  },
  {
   "cell_type": "markdown",
   "metadata": {},
   "source": [
    "## 10.2. ファイルのワイルドカード表記\n",
    "glob モジュールでは、ディレクトリのワイルドカード検索からファイルのリストを生成するための関数を提供しています:"
   ]
  },
  {
   "cell_type": "code",
   "execution_count": 4,
   "metadata": {
    "collapsed": false
   },
   "outputs": [
    {
     "name": "stdout",
     "output_type": "stream",
     "text": [
      "['fibo.py']\n"
     ]
    }
   ],
   "source": [
    "import glob\n",
    "print glob.glob(\"*.py\")"
   ]
  },
  {
   "cell_type": "markdown",
   "metadata": {},
   "source": [
    "## 10.3. コマンドライン引数\n",
    "一般的なユーティリティスクリプトでは、よくコマンドライン引数を扱う必要があります。コマンドライン引数は sys モジュールの argv 属性にリストとして保存されています。例えば、以下の出力は、 python demo.py one two three とコマンドライン上で起動した時に得られるものです:"
   ]
  },
  {
   "cell_type": "code",
   "execution_count": 10,
   "metadata": {
    "collapsed": false
   },
   "outputs": [
    {
     "name": "stdout",
     "output_type": "stream",
     "text": [
      "Overwriting argv_test.py\n"
     ]
    }
   ],
   "source": [
    "%%file argv_test.py\n",
    "import sys\n",
    "print sys.argv"
   ]
  },
  {
   "cell_type": "code",
   "execution_count": 11,
   "metadata": {
    "collapsed": false
   },
   "outputs": [
    {
     "name": "stdout",
     "output_type": "stream",
     "text": [
      "['argv_test.py', 'one', 'tow', 'three']\n"
     ]
    }
   ],
   "source": [
    "!python argv_test.py one tow three"
   ]
  },
  {
   "cell_type": "markdown",
   "metadata": {},
   "source": [
    "getopt モジュールは、 sys.argv を Unix の getopt() 関数の慣習に従って処理します。より強力で柔軟性のあるコマンドライン処理機能は、 argparse モジュールで提供されています。"
   ]
  },
  {
   "cell_type": "markdown",
   "metadata": {},
   "source": [
    "## 10.4. エラー出力のリダイレクトとプログラムの終了\n",
    "sys モジュールには、 stdin, stdout, stderr を表す属性も存在します。 stderr は、警告やエラーメッセージを出力して、 stdout がリダイレクトされた場合でも読めるようにするために便利です:"
   ]
  },
  {
   "cell_type": "code",
   "execution_count": 12,
   "metadata": {
    "collapsed": false
   },
   "outputs": [
    {
     "name": "stderr",
     "output_type": "stream",
     "text": [
      "Warning, log file not found starting a new one\n"
     ]
    }
   ],
   "source": [
    "import sys\n",
    "sys.stderr.write('Warning, log file not found starting a new one\\n')"
   ]
  },
  {
   "cell_type": "markdown",
   "metadata": {},
   "source": [
    "sys.exit() は、スクリプトを終了させるもっとも直接的な方法です。"
   ]
  },
  {
   "cell_type": "markdown",
   "metadata": {},
   "source": [
    "## 10.5. 文字列のパターンマッチング\n",
    "re モジュールでは、より高度な文字列処理のための正規表現を提供しています。正規表現は複雑な一致検索や操作に対して簡潔で最適化された解決策を提供します:"
   ]
  },
  {
   "cell_type": "code",
   "execution_count": 15,
   "metadata": {
    "collapsed": false
   },
   "outputs": [
    {
     "name": "stdout",
     "output_type": "stream",
     "text": [
      "['foot', 'fell', 'fastest']\n",
      "cat in the hat\n"
     ]
    }
   ],
   "source": [
    "import re\n",
    "print re.findall(r'\\bf[a-z]*', 'which foot or hand fell fastest')\n",
    "print re.sub(r'(\\b[a-z]+) \\1', r'\\1', 'cat in the the hat')"
   ]
  },
  {
   "cell_type": "markdown",
   "metadata": {},
   "source": [
    "最小限の機能だけが必要なら、読みやすくデバッグしやすい文字列メソッドの方がお勧めです:"
   ]
  },
  {
   "cell_type": "code",
   "execution_count": 14,
   "metadata": {
    "collapsed": false
   },
   "outputs": [
    {
     "name": "stdout",
     "output_type": "stream",
     "text": [
      "tea for two\n"
     ]
    }
   ],
   "source": [
    "print 'tea for too'.replace('too', 'two')"
   ]
  },
  {
   "cell_type": "markdown",
   "metadata": {},
   "source": [
    "## 10.6. 数学\n",
    "math モジュールは、浮動小数点演算のための C 言語ライブラリ関数にアクセスする手段を提供しています:"
   ]
  },
  {
   "cell_type": "code",
   "execution_count": 16,
   "metadata": {
    "collapsed": false
   },
   "outputs": [
    {
     "name": "stdout",
     "output_type": "stream",
     "text": [
      "0.707106781187\n",
      "10.0\n"
     ]
    }
   ],
   "source": [
    "import math\n",
    "print math.cos(math.pi / 4.0)\n",
    "print math.log(1024, 2)"
   ]
  },
  {
   "cell_type": "markdown",
   "metadata": {},
   "source": [
    "random モジュールは、乱数に基づいた要素選択のためのツールを提供しています:"
   ]
  },
  {
   "cell_type": "code",
   "execution_count": 17,
   "metadata": {
    "collapsed": false
   },
   "outputs": [
    {
     "name": "stdout",
     "output_type": "stream",
     "text": [
      "banana\n",
      "[28, 31, 96, 12, 49, 15, 91, 29, 65, 64]\n",
      "0.588634846547\n",
      "3\n"
     ]
    }
   ],
   "source": [
    "import random\n",
    "print random.choice(['apple', 'pear', 'banana'])\n",
    "print random.sample(xrange(100), 10)   # sampling without replacement\n",
    "print random.random()                  # random float\n",
    "print random.randrange(6)              # random integer chosen from range(6)"
   ]
  },
  {
   "cell_type": "markdown",
   "metadata": {},
   "source": [
    "## 10.7. インターネットへのアクセス\n",
    "インターネットにアクセスしたりインターネットプロトコルを処理したりするための多くのモジュールがあります。最も単純な2つのモジュールは、 URL からデータを取得するための urllib2 と、メールを送るための smtplib です:"
   ]
  },
  {
   "cell_type": "code",
   "execution_count": 18,
   "metadata": {
    "collapsed": false
   },
   "outputs": [
    {
     "name": "stdout",
     "output_type": "stream",
     "text": [
      "      <dd>Despite many new features, 2.4.x tends to use less memory than\n",
      "\n",
      "      <dt><code class=\"module\"><a href=\"./mod/mod_macro.html\">mod_macro</a></code> (available since 2.4.5)</dt>\n",
      "\n",
      "      <dt><code class=\"module\"><a href=\"./mod/mod_proxy_wstunnel.html\">mod_proxy_wstunnel</a></code> (available since 2.4.5)</dt>\n",
      "\n",
      "      <dt><code class=\"module\"><a href=\"./mod/mod_authnz_fcgi.html\">mod_authnz_fcgi</a></code> (available since 2.4.10)</dt>\n",
      "\n",
      "      <dt><code class=\"module\"><a href=\"./mod/mod_http2.html\">mod_http2</a></code> (available since 2.4.17)</dt>\n",
      "\n",
      "      <dd>Support for TLS-SRP (available in 2.4.4 and later).</dd>\n",
      "\n",
      "      <dd>Support for Unix domain sockets to the backend (available in 2.4.7\n",
      "\n",
      "      2.4.5 and later).</dd>\n",
      "\n",
      "        <dd>Support for the bcrypt algorithm (available in 2.4.4 and later).\n",
      "\n"
     ]
    }
   ],
   "source": [
    "import urllib2\n",
    "for line in urllib2.urlopen('https://httpd.apache.org/docs/2.4/new_features_2_4.html'):\n",
    "  if '2.4.' in line :\n",
    "    print line\n",
    "\n",
    "# ERROR(can't run in Windows Envrironment)\n",
    "#import smtplib\n",
    "#server = smtplib.SMTP('localhost')\n",
    "#server.sendmail('iitt21-all@yahoo.co.jp', 'iitt21-all@yahoo.co.jp',\n",
    "#\"\"\"To: anonymous@yahoo.co.jp\n",
    "#From: nobody@yahoo.co.jp\n",
    "#\n",
    "#Beware the Ides of March.\n",
    "#\"\"\")\n",
    "#server.quit()"
   ]
  },
  {
   "cell_type": "markdown",
   "metadata": {},
   "source": [
    "(2つ目の例は localhost でメールサーバーが動いている必要があることに注意してください。)"
   ]
  },
  {
   "cell_type": "markdown",
   "metadata": {},
   "source": [
    "## 10.8. 日付と時刻\n",
    "datetime モジュールは、日付や時刻を操作するためのクラスを、単純な方法と複雑な方法の両方で提供しています。日付や時刻に対する算術がサポートされている一方、実装では出力の書式化や操作のための効率的なデータメンバ抽出に重点を置いています。このモジュールでは、タイムゾーンに対応したオブジェクトもサポートしています。"
   ]
  },
  {
   "cell_type": "code",
   "execution_count": 20,
   "metadata": {
    "collapsed": false
   },
   "outputs": [
    {
     "name": "stdout",
     "output_type": "stream",
     "text": [
      "2016-06-02\n",
      "06-02-16. 02 Jun 2016 is a Thursday on the 02 day of June.\n",
      "20206\n"
     ]
    }
   ],
   "source": [
    "from datetime import date\n",
    "now = date.today()\n",
    "print now\n",
    "print now.strftime(\"%m-%d-%y. %d %b %Y is a %A on the %d day of %B.\")\n",
    "\n",
    "# dates support calendar arithmetic\n",
    "birthday = date(1961, 2, 5)\n",
    "age = now - birthday\n",
    "print age.days"
   ]
  },
  {
   "cell_type": "markdown",
   "metadata": {},
   "source": [
    "## 10.9. データ圧縮\n",
    "一般的なデータアーカイブと圧縮形式は、以下のようなモジュールによって直接的にサポートされます: zlib, gzip, bz2, zipfile, tarfile 。"
   ]
  },
  {
   "cell_type": "code",
   "execution_count": 21,
   "metadata": {
    "collapsed": false
   },
   "outputs": [
    {
     "name": "stdout",
     "output_type": "stream",
     "text": [
      "41\n",
      "37\n",
      "witch which has which witches wrist watch\n",
      "crc32=0d84c8db\n"
     ]
    }
   ],
   "source": [
    "import zlib\n",
    "s = 'witch which has which witches wrist watch'\n",
    "print len(s)\n",
    "t = zlib.compress(s)\n",
    "print len(t)\n",
    "\n",
    "print zlib.decompress(t)\n",
    "print \"crc32={:08x}\".format(zlib.crc32(s))"
   ]
  },
  {
   "cell_type": "markdown",
   "metadata": {},
   "source": [
    "## 10.10. パフォーマンスの計測\n",
    "Python ユーザの中には、同じ問題を異なったアプローチで解いた際の相対的なパフォーマンスについて知りたいという深い興味を持っている人がいます。Python は、そういった疑問に即座に答える計測ツールを提供しています。\n",
    "\n",
    "例えば、引数の入れ替え操作に対して、伝統的なアプローチの代わりにタプルのパックやアンパックを使ってみたいと思うかもしれません。 timeit モジュールを使えば、パフォーマンスがほんの少し良いことがすぐに分かります:"
   ]
  },
  {
   "cell_type": "code",
   "execution_count": 23,
   "metadata": {
    "collapsed": false
   },
   "outputs": [
    {
     "name": "stdout",
     "output_type": "stream",
     "text": [
      "0.0263513130016\n",
      "0.0203429093699\n",
      "\n",
      "0.888165636156\n",
      "0.623028478844\n"
     ]
    }
   ],
   "source": [
    "# jupyter化に際して少し追加\n",
    "from timeit import Timer\n",
    "print Timer('t=a; a=b; b=t', 'a=1; b=2').timeit()\n",
    "print Timer('a,b = b,a', 'a=1; b=2').timeit()\n",
    "print\n",
    "\n",
    "print Timer('sum([i*i for i in range(1, 10)])').timeit()\n",
    "print Timer(\"\"\"\n",
    "sum = 0\n",
    "for i in range(1, 10):\n",
    "  sum += i*i\n",
    "\"\"\").timeit()"
   ]
  },
  {
   "cell_type": "markdown",
   "metadata": {},
   "source": [
    "timeit では小さい粒度を提供しているのに対し、 profile や pstats モジュールではより大きなコードブロックにおいて律速となる部分を判定するためのツールを提供しています。"
   ]
  },
  {
   "cell_type": "markdown",
   "metadata": {},
   "source": [
    "## 10.11. 品質管理\n",
    "高い品質のソフトウェアを開発するための一つのアプローチは、各関数に対して開発と同時にテストを書き、開発の過程で頻繁にテストを走らせるというものです。\n",
    "\n",
    "doctest モジュールでは、モジュールを検索してプログラムの docstring に埋め込まれたテストの評価を行うためのツールを提供しています。テストの作り方は単純で、典型的な呼び出し例とその結果を docstring にカット&ペーストするだけです。この作業は、ユーザに使用例を与えるという意味でドキュメントの情報を増やすと同時に、ドキュメントに書かれているコードが正しい事を確認できるようになります:"
   ]
  },
  {
   "cell_type": "code",
   "execution_count": 24,
   "metadata": {
    "collapsed": false
   },
   "outputs": [
    {
     "name": "stdout",
     "output_type": "stream",
     "text": [
      "TestResults(failed=0, attempted=1)\n"
     ]
    }
   ],
   "source": [
    "def average(values):\n",
    "    \"\"\"Computes the arithmetic mean of a list of numbers.\n",
    "\n",
    "    >>> print average([20, 30, 70])\n",
    "    40.0\n",
    "    \"\"\"\n",
    "    return sum(values, 0.0) / len(values)\n",
    "\n",
    "import doctest\n",
    "print doctest.testmod()   # automatically validate the embedded tests"
   ]
  },
  {
   "cell_type": "markdown",
   "metadata": {},
   "source": [
    "unittest モジュールは doctest モジュールほど気楽に使えるものではありませんが、より網羅的なテストセットを別のファイルで管理することができます:"
   ]
  },
  {
   "cell_type": "code",
   "execution_count": 25,
   "metadata": {
    "collapsed": false
   },
   "outputs": [
    {
     "name": "stdout",
     "output_type": "stream",
     "text": [
      "Writing average.py\n"
     ]
    }
   ],
   "source": [
    "%%file average.py\n",
    "\n",
    "def average(values):\n",
    "    \"\"\"Computes the arithmetic mean of a list of numbers.\n",
    "\n",
    "    >>> print average([20, 30, 70])\n",
    "    40.0\n",
    "    \"\"\"\n",
    "    return sum(values, 0.0) / len(values)\n",
    "\n",
    "import unittest\n",
    "class TestStatisticalFunctions(unittest.TestCase):\n",
    "    def test_average(self):\n",
    "        self.assertEqual(average([20, 30, 70]), 40.0)\n",
    "        self.assertEqual(round(average([1, 5, 7]), 1), 4.3)\n",
    "        with self.assertRaises(ZeroDivisionError):\n",
    "            average([])\n",
    "        with self.assertRaises(TypeError):\n",
    "            average(20, 30, 70)\n",
    "\n",
    "print unittest.main() # Calling from the command line invokes all tests"
   ]
  },
  {
   "cell_type": "code",
   "execution_count": 26,
   "metadata": {
    "collapsed": false
   },
   "outputs": [
    {
     "name": "stderr",
     "output_type": "stream",
     "text": [
      ".\n",
      "----------------------------------------------------------------------\n",
      "Ran 1 test in 0.000s\n",
      "\n",
      "OK\n"
     ]
    }
   ],
   "source": [
    "!python average.py"
   ]
  },
  {
   "cell_type": "markdown",
   "metadata": {},
   "source": [
    "## 10.12. バッテリー同梱\n",
    "Python には “バッテリー同梱 (batteries included)” 哲学があります。この哲学は、洗練され、安定した機能を持つ Python の膨大なパッケージ群に如実に表れています。例えば:\n",
    "\n",
    "+ xmlrpclib および SimpleXMLRPCServer モジュールは、遠隔手続き呼び出し (remote procedure call) を全く大したことのない作業に変えてしまいます。モジュール名とは違い、XML を扱うための直接的な知識は必要ありません。\n",
    "\n",
    "\n",
    "+ email パッケージは、MIME やその他の RFC 2822 に基づくメッセージ文書を含む電子メールメッセージを管理するためのライブラリです。実際にメッセージを送信したり受信したりする smtplib や poplib と違って、email パッケージには (添付文書を含む) 複雑なメッセージ構造の構築やデコードを行ったり、インターネット標準のエンコードやヘッダプロトコルの実装を行ったりするための完全なツールセットを備えています。\n",
    "\n",
    "\n",
    "+ xml.dom および xml.sax パッケージでは、一般的なデータ交換形式である XML を解析するための頑健なサポートを提供しています。同様に、 csv モジュールでは、広く用いられているデータベース形式のデータを直接読み書きする機能をサポートしています。これらのモジュールやパッケージを利用することで、Python アプリケーションと他のツール群との間でのデータ交換が劇的に簡単になります。\n",
    "\n",
    "\n",
    "+ 国際化に関する機能は、 gettext, locale, codecs パッケージといったモジュール群でサポートされています。"
   ]
  }
 ],
 "metadata": {
  "kernelspec": {
   "display_name": "Python 2",
   "language": "python",
   "name": "python2"
  },
  "language_info": {
   "codemirror_mode": {
    "name": "ipython",
    "version": 2
   },
   "file_extension": ".py",
   "mimetype": "text/x-python",
   "name": "python",
   "nbconvert_exporter": "python",
   "pygments_lexer": "ipython2",
   "version": "2.7.11"
  }
 },
 "nbformat": 4,
 "nbformat_minor": 0
}
