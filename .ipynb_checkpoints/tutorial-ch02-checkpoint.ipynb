{
 "cells": [
  {
   "cell_type": "markdown",
   "metadata": {},
   "source": [
    "**【Jupyter Notebookとしての注意】**\n",
    "+ 本ファイルはJupyter Notebook形式で記載するので 、(>>> や ...) といったプロンプトはプログラム例から削除しています。\n",
    "+ 対話形式では、式を入れると値が表示されますが、Jupyter Notebookでは、最後の結果しか表示されないため、プログラム例に適宜「print」を追加しています。\n",
    "+ print文で表示すると文字列の表現等が異なるため、プログラム例では、適宜、式に対して「repr」という関数を適用した結果をprintしています。"
   ]
  },
  {
   "cell_type": "markdown",
   "metadata": {},
   "source": [
    "# 2. Python インタプリタを使う\n",
    "## 2.1. インタプリタを起動する\n",
    "\n",
    "Python インタプリタは、それが使えるマシン上では通常 /usr/local/bin/python としてインストールされています; Unix シェルの検索パスに /usr/local/bin を入れることによって、次のコマンドをタイプしてインタプリタを開始することができます"
   ]
  },
  {
   "cell_type": "markdown",
   "metadata": {},
   "source": [
    "`python`"
   ]
  },
  {
   "cell_type": "markdown",
   "metadata": {},
   "source": [
    "とコマンドを入力すれば使えるようになります。どのディレクトリに Python インタプリタをインストールするかはインストール時に選択できるので、インタプリタは他のディレクトリにあるかもしれません; 身近な Python に詳しい人か、システム管理者に聞いてみてください。 (例えば、その他の場所としては /usr/local/python が一般的です。)\n",
    "\n",
    "Windows では、 Python は大抵の場合 C:\\Python27 にインストールされますが、インストーラ実行時に変更することができます。このディレクトリをあなたのパスに追加するには、以下のコマンドをコマンドプロンプトで実行してください。"
   ]
  },
  {
   "cell_type": "markdown",
   "metadata": {},
   "source": [
    "`set path=%path%;C:\\python27`"
   ]
  },
  {
   "cell_type": "markdown",
   "metadata": {},
   "source": [
    "ファイル終端文字 (Unixでは Control-D 、DOS や Windows では Control-Z) を一次プロンプト (訳注: ‘>>>’ のこと) に入力すると、インタプリタが終了ステータス 0 で終了します。もしこの操作がうまく働かないなら、コマンド: quit() と入力すればインタプリタを終了できます。\n",
    "\n",
    "通常、インタプリタの行編集機能は、あまり洗練されたものではありません。 Unix では、インタプリタをインストールした誰かが GNU readline ライブラリのサポートを有効にしていれば、洗練された対話的行編集やヒストリ機能が利用できます。コマンドライン編集機能がサポートされているかを最も手っ取り早く調べる方法は、おそらく最初に表示された Python プロンプトに Control-P を入力してみることでしょう。ビープ音が鳴るなら、コマンドライン編集機能があります。編集キーについての解説は付録 対話入力編集とヒストリ置換 を参照してください。何も起こらないように見えるか、 ^P がエコーバックされるなら、コマンドライン編集機能は利用できません。この場合、現在編集中の行から文字を削除するにはバックスペースを使うしかありません。\n",
    "\n",
    "インタプリタはさながら Unix シェルのように働きます。標準入力が端末に接続された状態で呼び出されると、コマンドを対話的に読み込んで実行します。ファイル名を引数にしたり、標準入力からファイルを入力すると、インタプリタはファイルから スクリプト を読み込んで実行します。\n",
    "\n",
    "インタプリタを起動する第二の方法は python -c command [arg] ... です。この形式では、シェルの -c オプションと同じように、 command に指定した文を実行します。 Python 文には、スペースなどのシェルにとって特殊な意味をもつ文字がしばしば含まれるので、 command 全体をシングルクォート(訳注: ')で囲っておいたほうが良いでしょう。\n",
    "\n",
    "Python のモジュールには、スクリプトとしても便利に使えるものがあります。 python -m module [arg] ... のようにすると、 module のソースファイルを、フルパスを指定して起動したかのように実行できます。\n",
    "\n",
    "スクリプトファイルが使われた場合、スクリプトを走らせて、そのまま対話モードに入れると便利なことがあります。これには -i をスクリプトの前に追加します。\n",
    "\n",
    "全てのコマンドラインオプションは コマンドラインと環境 で説明されています。"
   ]
  },
  {
   "cell_type": "markdown",
   "metadata": {},
   "source": [
    "## 2.1.1. 引数の受け渡し\n",
    "スクリプト名と引数を指定してインタプリタを起動した場合、スクリプト名やスクリプト名以後に指定した引数は、文字列のリストに変換されて sys モジュールの argv 変数に格納されます。 import sys することでこのリストにアクセスすることができます。 sys.argv には少なくとも一つ要素が入っています。スクリプト名も引数も指定しなければ sys.argv[0] は空の文字列になります。スクリプト名の代わりに '-' (標準入力を意味します) を指定すると、 sys.argv[0] は '-' になります。 -c command を使うと、 sys.argv[0] は '-c' になります。 -m module を使った場合、 sys.argv[0] はモジュールのフルパスになります。 -c command や -m module の後ろにオプションを指定した場合、 Python インタプリタ自体はこれらの引数を処理せず、 sys.argv を介して command や module から扱えるようになります。"
   ]
  },
  {
   "cell_type": "markdown",
   "metadata": {},
   "source": [
    "## 2.1.2. 対話モード\n",
    "インタプリタが命令を端末 (tty) やコマンドプロンプトから読み取っている場合、インタプリタは 対話モード (interactive mode) で動作しているといいます。このモードでは、インタプリタは 一次プロンプト (primary prompt) を表示して、ユーザにコマンドを入力するよう促します。一次プロンプトは普通、三つの「大なり記号」 (>>>) です。一つの入力が次の行まで続く (行継続: continuation line を行う) 場合、インタプリタは 二次プロンプト (secondary prompt) を表示します。二次プロンプトは、デフォルトでは三つのドット (...) です。インタプリタは、最初のプロンプトを出す前にバージョン番号と著作権表示から始まる起動メッセージを出力します:"
   ]
  },
  {
   "cell_type": "markdown",
   "metadata": {},
   "source": [
    "```Python 2.7 (#1, Feb 28 2010, 00:02:06)  \n",
    "Type \"help\", \"copyright\", \"credits\" or \"license\" for more information.```  \n",
    "`>>>`"
   ]
  },
  {
   "cell_type": "markdown",
   "metadata": {},
   "source": [
    "行継続は、例えば以下の if 文のように、複数の行からなる構文を入力するときに必要です:"
   ]
  },
  {
   "cell_type": "code",
   "execution_count": 1,
   "metadata": {
    "collapsed": false
   },
   "outputs": [
    {
     "name": "stdout",
     "output_type": "stream",
     "text": [
      "Be careful not to fall off!\n"
     ]
    }
   ],
   "source": [
    "the_world_is_flat = 1\n",
    "if the_world_is_flat:\n",
    "    print \"Be careful not to fall off!\""
   ]
  },
  {
   "cell_type": "markdown",
   "metadata": {},
   "source": [
    "対話モードについての詳細は 対話モード を参照してください。"
   ]
  },
  {
   "cell_type": "markdown",
   "metadata": {},
   "source": [
    "## 2.2. インタプリタとその環境\n",
    "### 2.2.1. ソースコードの文字コード\n",
    "ASCII 形式でない文字コードエンコーディングを Python ソースコードファイル中で使うことができます。最良の方法は、 #! 行の直後にもう一行特殊なコメントを挿入して、ソースファイルのエンコーディングを指定するというものです。"
   ]
  },
  {
   "cell_type": "code",
   "execution_count": 2,
   "metadata": {
    "collapsed": true
   },
   "outputs": [],
   "source": [
    "# -*- coding: encoding -*-"
   ]
  },
  {
   "cell_type": "markdown",
   "metadata": {},
   "source": [
    "このように宣言しておくと、ソースファイル中の全ての文字は エンコーディング という文字コードでエンコードされているものとして扱われ、Unicode 文字列リテラルを指定したエンコードで直接記述できます。実際に利用できるエンコードのリストは Python ライブラリリファレンスの codecs の節にあります。(訳注: エンコーディング の部分には、実際には utf-8 や cp932 など、そのソースコードのエンコーディングを記述します。プログラムから日本語を扱う場合には、必ずある程度の文字コードの知識が必要になります。もし文字コードについてよく判らないのであれば、まずは英語だけ扱いながらチュートリアルを読み進めて、並行して文字コードについても勉強してみましょう。現在は、 Unicode の扱い易さの観点から、推奨される文字コードは utf-8 です。ただし、 utf-8 でソースを書いた場合、 utf-8 を表示できない Windows のコマンドプロンプトは print \"こんにちは\" を実行すると文字化けを起こすでしょう。その場合は、互換性のために古い cp932 エンコーディングを使うか、 print u\"こんにちは\" のように Unicode 文字列を使います。)\n",
    "\n",
    "例えばユーロ通貨記号を含む Unicode リテラルを書くために、 ISO-8859-15 エンコーディングを使えます。 ISO-8859-15 では、ユーロ通過記号の序数 (ordinal) は 164 です。以下の ISO-8859-15 エンコーディングで保存されたスクリプトは、 8364 という値 (Unicode でユーロ記号に対応するコードポイントの値) を出力して終了します。"
   ]
  },
  {
   "cell_type": "code",
   "execution_count": 3,
   "metadata": {
    "collapsed": false
   },
   "outputs": [
    {
     "name": "stdout",
     "output_type": "stream",
     "text": [
      "8364\n"
     ]
    }
   ],
   "source": [
    "# -*- coding: iso-8859-15 -*-\n",
    "\n",
    "currency = u\"€\"\n",
    "print ord(currency)"
   ]
  },
  {
   "cell_type": "markdown",
   "metadata": {},
   "source": [
    "利用しているエディタがファイルを UTF-8 バイト整列記号 (通称 BOM: Byte Order Mark) 付きの UTF-8 で保存できる場合、エンコード宣言の代わりに使うことができます。 IDLE は Options/General/Default Source Encoding/UTF-8 が設定されている場合、 UTF-8 でエンコードされたファイルの識別機能をサポートします。ただし、 (2.2 以前の) 古い Python リリースは UTF-8 シグネチャを理解しませんし、オペレーティングシステムは (Unix システムでしか使われていませんが) #! の行を含むスクリプトファイルを判別できなくなるので注意してください。\n",
    "\n",
    "UTF-8 を (シグネチャやエンコーディング宣言を行って) 使うと、世界中のほとんどの言語で使われている文字を文字列リテラルやコメントの中に同時に使うことができます。識別子に対する非 ASCII 文字の使用はサポートされていません。全ての文字を正しく表示できるようにするには、使っているエディタがファイルを UTF-8 であると認識することができなければならず、かつファイル内で使われている全ての文字をサポートするようなフォントを使わなければなりません。"
   ]
  }
 ],
 "metadata": {
  "kernelspec": {
   "display_name": "Python 2",
   "language": "python",
   "name": "python2"
  },
  "language_info": {
   "codemirror_mode": {
    "name": "ipython",
    "version": 2
   },
   "file_extension": ".py",
   "mimetype": "text/x-python",
   "name": "python",
   "nbconvert_exporter": "python",
   "pygments_lexer": "ipython2",
   "version": "2.7.11"
  }
 },
 "nbformat": 4,
 "nbformat_minor": 0
}
