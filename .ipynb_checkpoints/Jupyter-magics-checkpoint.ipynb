{
 "cells": [
  {
   "cell_type": "markdown",
   "metadata": {},
   "source": [
    "# jupyterの[built-in magic commands](https://ipython.org/ipython-doc/3/interactive/magics.html)の抜粋"
   ]
  },
  {
   "cell_type": "code",
   "execution_count": 8,
   "metadata": {
    "collapsed": false
   },
   "outputs": [
    {
     "name": "stdout",
     "output_type": "stream",
     "text": [
      "Overwriting gen_fib.py\n"
     ]
    }
   ],
   "source": [
    "%%file gen_fib.py\n",
    "\n",
    "def gen_fib(n):\n",
    "  fib = []\n",
    "  a, b = 0, 1\n",
    "  while b <= n:\n",
    "    fib.append(b)\n",
    "    a, b = b, a + b\n",
    "  return fib\n",
    "\n",
    "if __name__ == \"__main__\":\n",
    "  print gen_fib(1000)"
   ]
  },
  {
   "cell_type": "code",
   "execution_count": 4,
   "metadata": {
    "collapsed": false
   },
   "outputs": [
    {
     "data": {
      "text/plain": [
       "u'F:\\\\Develop\\\\Python\\\\MySamples'"
      ]
     },
     "execution_count": 4,
     "metadata": {},
     "output_type": "execute_result"
    }
   ],
   "source": [
    "%pwd"
   ]
  },
  {
   "cell_type": "code",
   "execution_count": 1,
   "metadata": {
    "collapsed": false
   },
   "outputs": [
    {
     "name": "stdout",
     "output_type": "stream",
     "text": [
      " ドライブ F のボリューム ラベルは FARC730 です\n",
      " ボリューム シリアル番号は C858-8D43 です\n",
      "\n",
      " F:\\Develop\\Python\\MySamples のディレクトリ\n",
      "\n",
      "2016/05/31  10:13    <DIR>          .\n",
      "2016/05/31  10:13    <DIR>          ..\n",
      "2016/05/31  10:03    <DIR>          .ipynb_checkpoints\n",
      "2016/05/27  21:28    <DIR>          .vscode\n",
      "2016/05/28  01:22             2,254 control.py\n",
      "2016/05/28  02:06             5,119 datatype.py\n",
      "2016/05/28  01:30               951 function.py\n",
      "2016/05/31  08:54               168 gen_fib.py\n",
      "2016/05/28  01:05               438 hello.py\n",
      "2016/05/31  10:12             4,723 Jupyter-magics.ipynb\n",
      "2016/05/31  10:02             2,368 markdown.ipynb\n",
      "2016/05/31  04:51                37 memo.txt\n",
      "2016/05/28  01:54             1,191 object.py\n",
      "2016/05/31  04:16             2,431 prime_test.ipynb\n",
      "2016/05/31  03:56               483 prime_test.py\n",
      "2016/05/31  03:57               845 prime_test.pyc\n",
      "2016/05/31  10:07             4,918 ProjectEuler.ipynb\n",
      "2016/05/28  01:13               525 scope.py\n",
      "2016/05/28  01:10               290 template.py\n",
      "2016/05/31  10:13    <DIR>          workdir\n",
      "              15 個のファイル              26,741 バイト\n",
      "               5 個のディレクトリ  474,922,381,312 バイトの空き領域\n"
     ]
    }
   ],
   "source": [
    "!dir"
   ]
  },
  {
   "cell_type": "code",
   "execution_count": 2,
   "metadata": {
    "collapsed": false
   },
   "outputs": [
    {
     "name": "stdout",
     "output_type": "stream",
     "text": [
      "F:\\Develop\\Python\\MySamples\\workdir\n"
     ]
    }
   ],
   "source": [
    "%cd workdir"
   ]
  },
  {
   "cell_type": "code",
   "execution_count": 3,
   "metadata": {
    "collapsed": false
   },
   "outputs": [
    {
     "name": "stdout",
     "output_type": "stream",
     "text": [
      "F:\\Develop\\Python\\MySamples\n"
     ]
    }
   ],
   "source": [
    "%cd -"
   ]
  },
  {
   "cell_type": "code",
   "execution_count": null,
   "metadata": {
    "collapsed": true
   },
   "outputs": [],
   "source": [
    "# Set up matplotlib to work interactively\n",
    "%matplotlib inline"
   ]
  },
  {
   "cell_type": "code",
   "execution_count": 5,
   "metadata": {
    "collapsed": false
   },
   "outputs": [
    {
     "data": {
      "application/javascript": [
       "alert(\"Hello\")"
      ],
      "text/plain": [
       "<IPython.core.display.Javascript object>"
      ]
     },
     "metadata": {},
     "output_type": "display_data"
    }
   ],
   "source": [
    "%%javascript\n",
    "alert(\"Hello\")"
   ]
  },
  {
   "cell_type": "code",
   "execution_count": 7,
   "metadata": {
    "collapsed": false
   },
   "outputs": [
    {
     "name": "stdout",
     "output_type": "stream",
     "text": [
      "Microsoft Windows [Version 6.1.7601]\r\n",
      "Copyright (c) 2009 Microsoft Corporation.  All rights reserved.\r\n",
      "\r\n",
      "F:\\Develop\\Python\\MySamples>python gen_fib.py\n",
      "[1, 1, 2, 3, 5, 8, 13, 21, 34, 55, 89, 144, 233, 377, 610, 987]\r\n",
      "\r\n",
      "F:\\Develop\\Python\\MySamples>"
     ]
    }
   ],
   "source": [
    "%%cmd\n",
    "python gen_fib.py"
   ]
  },
  {
   "cell_type": "code",
   "execution_count": 10,
   "metadata": {
    "collapsed": false
   },
   "outputs": [
    {
     "name": "stdout",
     "output_type": "stream",
     "text": [
      "{\n",
      "  \"stdin_port\": 49587, \n",
      "  \"ip\": \"127.0.0.1\", \n",
      "  \"control_port\": 49588, \n",
      "  \"hb_port\": 49589, \n",
      "  \"signature_scheme\": \"hmac-sha256\", \n",
      "  \"key\": \"b07c3df4-0150-4338-8d68-bcde1aaf4fc9\", \n",
      "  \"kernel_name\": \"\", \n",
      "  \"shell_port\": 49585, \n",
      "  \"transport\": \"tcp\", \n",
      "  \"iopub_port\": 49586\n",
      "}\n",
      "\n",
      "Paste the above JSON into a file, and connect with:\n",
      "    $> ipython <app> --existing <file>\n",
      "or, if you are local, you can connect with just:\n",
      "    $> ipython <app> --existing C:\\Users\\Taka\\AppData\\Roaming\\jupyter\\runtime\\kernel-6026349c-cb0e-43d1-a444-bd15d61e85de.json \n",
      "or even just:\n",
      "    $> ipython <app> --existing \n",
      "if this is the most recent IPython session you have started.\n"
     ]
    }
   ],
   "source": [
    "%connect_info"
   ]
  }
 ],
 "metadata": {
  "kernelspec": {
   "display_name": "Python 2",
   "language": "python",
   "name": "python2"
  },
  "language_info": {
   "codemirror_mode": {
    "name": "ipython",
    "version": 2
   },
   "file_extension": ".py",
   "mimetype": "text/x-python",
   "name": "python",
   "nbconvert_exporter": "python",
   "pygments_lexer": "ipython2",
   "version": "2.7.11"
  }
 },
 "nbformat": 4,
 "nbformat_minor": 0
}
