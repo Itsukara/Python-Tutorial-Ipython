{
 "cells": [
  {
   "cell_type": "markdown",
   "metadata": {},
   "source": [
    "**【Jupyter Notebookとしての注意】**\n",
    "+ 本ファイルはJupyter Notebook形式で記載するので 、(>>> や ...) といったプロンプトはプログラム例から削除しています。\n",
    "+ 対話形式では、式を入れると値が表示されますが、Jupyter Notebookでは、最後の結果しか表示されないため、プログラム例に適宜「print」を追加しています。\n",
    "+ print文で表示すると文字列の表現等が異なるため、プログラム例では、適宜、式に対して「repr」という関数を適用した結果をprintしています。"
   ]
  },
  {
   "cell_type": "markdown",
   "metadata": {},
   "source": [
    "# 7. 入力と出力\n",
    "プログラムから出力を行う方法がいくつかあります。データは人間が読める形で出力することも、将来使うためにファイルに書くこともできます。この章では、こうした幾つかの出力の方法について話します。\n",
    "\n",
    "## 7.1. ファンシーな出力の書式化\n",
    "これまでのところ、値を出力する二つの方法: 式文 (expression statement) と print 文が出てきました。 (第三はファイルオブジェクトの write() メソッドを使う方法です。標準出力を表すファイルは sys.stdout で参照できます。詳細はライブラリリファレンスを参照してください。)\n",
    "\n",
    "出力を書式化する際に、単に値をスペースで区切って出力するよりももっときめ細かな制御をしたいと思うことがあるでしょう。出力を書式化するには二つの方法があります。第一の方法は、全ての文字列を自分で処理するというものです。文字列のスライスや結合といった操作を使えば、思い通りのレイアウトを作成することができます。文字列オブジェクトは、文字列を指定されたカラム幅に揃えるための幾つかの便利なメソッドを提供しています。これらのメソッドについてはすぐ後で簡単に説明します。もうひとつの方法は str.format() メソッドを利用することです。\n",
    "\n",
    "string モジュールの Template クラスは文字列中の値を置換する別の方法を提供しています。\n",
    "\n",
    "もちろん、一つ問題があります。値をどうやって文字列に変換したらいいのでしょうか？幸運なことに、Python には値を文字列に変換する方法があります。値を repr() か str() 関数に渡してください。\n",
    "\n",
    "str() 関数は値の人間に読める表現を返すためのもので、 repr() 関数はインタープリタに読める (あるいは同値となる構文がない場合は必ず SyntaxError になるような) 表現を返すためのものです。人間が読むのに適した特定の表現を持たないオブジェクトにおいては、 str() は repr() と同じ値を返します。数値や、リストや辞書を始めとするデータ構造など、多くの値がどちらの関数に対しても同じ表現を返します。一方、文字列と浮動小数点数は、2つの異なる表現を持っています。\n",
    "\n",
    "幾つかの例です:"
   ]
  },
  {
   "cell_type": "code",
   "execution_count": 1,
   "metadata": {
    "collapsed": false
   },
   "outputs": [
    {
     "name": "stdout",
     "output_type": "stream",
     "text": [
      "'Hello, world.'\n",
      "\"'Hello, world.'\"\n",
      "'0.142857142857'\n",
      "'0.14285714285714285'\n",
      "\n",
      "The value of x is 32.5, and y is 40000...\n",
      "'hello, world\\n'\n",
      "(32.5, 40000, ('spam', 'eggs'))\n"
     ]
    }
   ],
   "source": [
    "s = 'Hello, world.'\n",
    "print repr(str(s))\n",
    "print repr(repr(s))\n",
    "print repr(str(1.0/7.0))\n",
    "print repr(repr(1.0/7.0))\n",
    "print\n",
    "\n",
    "x = 10 * 3.25\n",
    "y = 200 * 200\n",
    "s = 'The value of x is ' + repr(x) + ', and y is ' + repr(y) + '...'\n",
    "print s\n",
    "\n",
    "# The repr() of a string adds string quotes and backslashes:\n",
    "hello = 'hello, world\\n'\n",
    "hellos = repr(hello)\n",
    "print hellos\n",
    "\n",
    "# The argument to repr() may be any Python object:\n",
    "print repr((x, y, ('spam', 'eggs')))"
   ]
  },
  {
   "cell_type": "markdown",
   "metadata": {},
   "source": [
    "以下に 2 乗と 3 乗の値からなる表を書く二つの方法を示します:"
   ]
  },
  {
   "cell_type": "code",
   "execution_count": 2,
   "metadata": {
    "collapsed": false
   },
   "outputs": [
    {
     "name": "stdout",
     "output_type": "stream",
     "text": [
      " 1   1    1\n",
      " 2   4    8\n",
      " 3   9   27\n",
      " 4  16   64\n",
      " 5  25  125\n",
      " 6  36  216\n",
      " 7  49  343\n",
      " 8  64  512\n",
      " 9  81  729\n",
      "10 100 1000\n",
      "\n",
      " 1   1    1\n",
      " 2   4    8\n",
      " 3   9   27\n",
      " 4  16   64\n",
      " 5  25  125\n",
      " 6  36  216\n",
      " 7  49  343\n",
      " 8  64  512\n",
      " 9  81  729\n",
      "10 100 1000\n"
     ]
    }
   ],
   "source": [
    "for x in range(1, 11):\n",
    "    print repr(x).rjust(2), repr(x*x).rjust(3),\n",
    "    # Note trailing comma on previous line\n",
    "    print repr(x*x*x).rjust(4)\n",
    "print\n",
    "\n",
    "for x in range(1,11):\n",
    "    print '{0:2d} {1:3d} {2:4d}'.format(x, x*x, x*x*x)    "
   ]
  },
  {
   "cell_type": "markdown",
   "metadata": {},
   "source": [
    "(最初の例で、各カラムの間のスペース一個は print の働きで追加されていることに注意してください。 print は引数間に常に空白を追加します。)\n",
    "\n",
    "この例では、文字列の str.rjust() メソッドの使い方を示しています。 str.rjust() は文字列を指定された幅のフィールド内に右詰めで入るように、左に空白を追加します。同様のメソッドとして、 str.ljust() と str.center() があります。これらのメソッドは何か出力を行うわけではなく、ただ新しい文字列を返します。入力文字列が長すぎる場合、文字列を切り詰めることはせず、ただ値をそのまま返します。この仕様のためにカラムのレイアウトが滅茶苦茶になるかもしれませんが、嘘の値が代わりに書き出されるよりはましです。(本当に切り詰めを行いたいのなら、全てのカラムに x.ljust(n)[:n] のようにスライス表記を加えることもできます。)\n",
    "\n",
    "もう一つのメソッド、 str.zfill() は、数値文字列の左側をゼロ詰めします。このメソッドは正と負の符号を正しく扱います:"
   ]
  },
  {
   "cell_type": "code",
   "execution_count": 3,
   "metadata": {
    "collapsed": false
   },
   "outputs": [
    {
     "name": "stdout",
     "output_type": "stream",
     "text": [
      "00012\n",
      "-003.14\n",
      "3.14159265359\n"
     ]
    }
   ],
   "source": [
    "print '12'.zfill(5)\n",
    "print '-3.14'.zfill(7)\n",
    "print '3.14159265359'.zfill(5)"
   ]
  },
  {
   "cell_type": "markdown",
   "metadata": {},
   "source": [
    "str.format() メソッドの基本的な使い方は次のようなものです:"
   ]
  },
  {
   "cell_type": "code",
   "execution_count": 4,
   "metadata": {
    "collapsed": false
   },
   "outputs": [
    {
     "name": "stdout",
     "output_type": "stream",
     "text": [
      "We are the knights who say \"Ni!\"\n"
     ]
    }
   ],
   "source": [
    "print 'We are the {} who say \"{}!\"'.format('knights', 'Ni')"
   ]
  },
  {
   "cell_type": "markdown",
   "metadata": {},
   "source": [
    "括弧とその中の文字(これをフォーマットフィールドと呼びます)は、 str.format() メソッドに渡されたオブジェクトに置換されます。括弧の中の数字は str.format() メソッドに渡されたオブジェクトの位置を表します。"
   ]
  },
  {
   "cell_type": "code",
   "execution_count": 5,
   "metadata": {
    "collapsed": false
   },
   "outputs": [
    {
     "name": "stdout",
     "output_type": "stream",
     "text": [
      "spam and egg\n",
      "egg and spam\n"
     ]
    }
   ],
   "source": [
    "print '{0} and {1}'.format('spam', 'egg')\n",
    "print '{1} and {0}'.format('spam', 'egg')"
   ]
  },
  {
   "cell_type": "markdown",
   "metadata": {},
   "source": [
    "str.format() メソッドにキーワード引数が渡された場合、その値はキーワード引数の名前によって参照されます。"
   ]
  },
  {
   "cell_type": "code",
   "execution_count": 6,
   "metadata": {
    "collapsed": false
   },
   "outputs": [
    {
     "name": "stdout",
     "output_type": "stream",
     "text": [
      "This spam is absolutely horrible.\n"
     ]
    }
   ],
   "source": [
    "print 'This {food} is {adjective}.'.format(\n",
    "      food='spam', adjective='absolutely horrible')"
   ]
  },
  {
   "cell_type": "markdown",
   "metadata": {},
   "source": [
    "順序引数とキーワード引数を組み合わせて使うこともできます:"
   ]
  },
  {
   "cell_type": "code",
   "execution_count": 7,
   "metadata": {
    "collapsed": false
   },
   "outputs": [
    {
     "name": "stdout",
     "output_type": "stream",
     "text": [
      "The story of Bill, Manfred, and Georg.\n"
     ]
    }
   ],
   "source": [
    "print 'The story of {0}, {1}, and {other}.'.format('Bill', 'Manfred',\n",
    "                                                    other='Georg')"
   ]
  },
  {
   "cell_type": "markdown",
   "metadata": {},
   "source": [
    "str() を適応する '!s' や repr() を適応する '!r' を使って、値をフォーマットする前に変換することができます。"
   ]
  },
  {
   "cell_type": "code",
   "execution_count": 8,
   "metadata": {
    "collapsed": false
   },
   "outputs": [
    {
     "name": "stdout",
     "output_type": "stream",
     "text": [
      "The value of PI is approximately 3.14159265359\n",
      "The value of PI is approximately 3.141592653589793\n",
      "The value of PI is approximately 3.14159265359\n"
     ]
    }
   ],
   "source": [
    "import math\n",
    "print 'The value of PI is approximately {}'.format(math.pi)\n",
    "print 'The value of PI is approximately {!r}'.format(math.pi)\n",
    "print 'The value of PI is approximately {!s}'.format(math.pi)"
   ]
  },
  {
   "cell_type": "markdown",
   "metadata": {},
   "source": [
    "オプションの ':' とフォーマット指定子を、フィールド名の後ろに付けることができます。フォーマット指定子によって値がどうフォーマットされるかを制御することができます。次の例では、円周率πを、小数点以下3桁でまるめてフォーマットしています。"
   ]
  },
  {
   "cell_type": "code",
   "execution_count": 9,
   "metadata": {
    "collapsed": false
   },
   "outputs": [
    {
     "name": "stdout",
     "output_type": "stream",
     "text": [
      "The value of PI is approximately 3.142\n"
     ]
    }
   ],
   "source": [
    "print 'The value of PI is approximately {0:.3f}'.format(math.pi)"
   ]
  },
  {
   "cell_type": "markdown",
   "metadata": {},
   "source": [
    "':' の後ろに整数をつけると、そのフィールドの最低の文字幅を指定できます。この機能は綺麗なテーブルを作るのに便利です。"
   ]
  },
  {
   "cell_type": "code",
   "execution_count": 10,
   "metadata": {
    "collapsed": false
   },
   "outputs": [
    {
     "name": "stdout",
     "output_type": "stream",
     "text": [
      "Dcab       ==>       7678\n",
      "Jack       ==>       4098\n",
      "Sjoerd     ==>       4127\n"
     ]
    }
   ],
   "source": [
    "table = {'Sjoerd': 4127, 'Jack': 4098, 'Dcab': 7678}\n",
    "for name, phone in table.items():\n",
    "    print '{0:10} ==> {1:10d}'.format(name, phone)"
   ]
  },
  {
   "cell_type": "markdown",
   "metadata": {},
   "source": [
    "もしも長い書式化文字列があり、それを分割したくない場合には、変数を引数の位置ではなく変数の名前で参照できるとよいでしょう。これは、辞書を引数に渡して、角括弧 '[]' を使って辞書のキーを参照することで可能です"
   ]
  },
  {
   "cell_type": "code",
   "execution_count": 11,
   "metadata": {
    "collapsed": false
   },
   "outputs": [
    {
     "name": "stdout",
     "output_type": "stream",
     "text": [
      "Jack: 4098; Sjoerd: 4127; Dcab: 8637678\n"
     ]
    }
   ],
   "source": [
    "table = {'Sjoerd': 4127, 'Jack': 4098, 'Dcab': 8637678}\n",
    "print ('Jack: {0[Jack]:d}; Sjoerd: {0[Sjoerd]:d}; '\n",
    "       'Dcab: {0[Dcab]:d}'.format(table))"
   ]
  },
  {
   "cell_type": "markdown",
   "metadata": {},
   "source": [
    "table を ‘\\*\\*’ 記法を使ってキーワード引数として渡す方法もあります。"
   ]
  },
  {
   "cell_type": "code",
   "execution_count": 12,
   "metadata": {
    "collapsed": false
   },
   "outputs": [
    {
     "name": "stdout",
     "output_type": "stream",
     "text": [
      "Jack: 4098; Sjoerd: 4127; Dcab: 8637678\n"
     ]
    }
   ],
   "source": [
    "table = {'Sjoerd': 4127, 'Jack': 4098, 'Dcab': 8637678}\n",
    "print 'Jack: {Jack:d}; Sjoerd: {Sjoerd:d}; Dcab: {Dcab:d}'.format(**table)"
   ]
  },
  {
   "cell_type": "markdown",
   "metadata": {},
   "source": [
    "全てのローカルな変数が入った辞書を返す組み込み関数 vars() と組み合わせると特に便利です。\n",
    "\n",
    "str.format() による文字列フォーマットの完全な解説は、 書式指定文字列の文法 を参照してください。"
   ]
  },
  {
   "cell_type": "markdown",
   "metadata": {},
   "source": [
    "### 7.1.1. 古い文字列フォーマット方法\n",
    "% 演算子を使って文字列フォーマットをする方法もあります。これは、演算子の左側の sprintf() スタイルのフォーマット文字列に、演算子の右側の値を適用し、その結果の文字列を返します。例えば:"
   ]
  },
  {
   "cell_type": "code",
   "execution_count": 13,
   "metadata": {
    "collapsed": false,
    "scrolled": true
   },
   "outputs": [
    {
     "name": "stdout",
     "output_type": "stream",
     "text": [
      "The value of PI is approximately 3.142.\n"
     ]
    }
   ],
   "source": [
    "import math\n",
    "print 'The value of PI is approximately %5.3f.' % math.pi"
   ]
  },
  {
   "cell_type": "markdown",
   "metadata": {},
   "source": [
    "より詳しい情報は [文字列フォーマット操作](http://docs.python.jp/2.7/library/stdtypes.html#string-formatting) にあります。"
   ]
  },
  {
   "cell_type": "markdown",
   "metadata": {},
   "source": [
    "## 7.2. ファイルを読み書きする\n",
    "open() は file object を返します。大抵、 open(filename, mode) のように二つの引数を伴って呼び出されます。"
   ]
  },
  {
   "cell_type": "code",
   "execution_count": 14,
   "metadata": {
    "collapsed": false
   },
   "outputs": [
    {
     "name": "stdout",
     "output_type": "stream",
     "text": [
      "<open file 'workfile.txt', mode 'r' at 0x0000000003A3DAE0>\n"
     ]
    }
   ],
   "source": [
    "f = open('workfile.txt', 'r')\n",
    "print f"
   ]
  },
  {
   "cell_type": "markdown",
   "metadata": {},
   "source": [
    "最初の引数はファイル名の入った文字列です。二つめの引数も文字列で、ファイルをどのように使うかを示す数個の文字が入っています。 mode は、ファイルが読み出し専用なら 'r' 、書き込み専用 (同名の既存のファイルがあれば消去されます) なら 'w' とします。 'a' はファイルを追記用に開きます。ファイルに書き込まれた内容は自動的にファイルの終端に追加されます。 'r+' はファイルを読み書き両用に開きます。 mode 引数は省略可能で、省略された場合には 'r' であると仮定します。\n",
    "\n",
    "Windows では、 mode に 'b' を追加するとファイルをバイナリモードで開きます。したがって、 'rb', 'wb', 'r+b' といったモードがあります。 Windows 上で動くPython はテキストファイルとバイナリファイルを区別しています。テキストファイルでは、読み書きの際に行末文字が自動的に少し変更されます。この舞台裏でのファイルデータ変更は、ASCII でできたテキストファイルでは差し支えないものですが、 JPEG や EXE ファイルのようなバイナリデータは破損してしまうことになるでしょう。こうしたファイルを読み書きする際にはバイナリモードを使うよう十分注意してください。 Unix では、 'b' を追加しても何も影響がないので、バイナリフォーマットを扱うためのプラットフォーム非依存な方法として利用できます。"
   ]
  },
  {
   "cell_type": "markdown",
   "metadata": {},
   "source": [
    "### 7.2.1. ファイルオブジェクトのメソッド\n",
    "この節の以降の例は、 f というファイルオブジェクトが既に生成されているものと仮定します。\n",
    "\n",
    "ファイルの内容を読み出すには、 f.read(size) を呼び出します。このメソッドはある量のデータを読み出して、文字列として返します。 size は省略可能な数値引数です。 size が省略されたり負の数であった場合、ファイルの内容全てを読み出して返します。ただし、ファイルがマシンのメモリの二倍の大きさもある場合にはどうなるかわかりません。 size が負でない数ならば、最大で size バイトを読み出して返します。ファイルの終端にすでに達していた場合、 f.read() は空の文字列 (\"\") を返します。"
   ]
  },
  {
   "cell_type": "code",
   "execution_count": 15,
   "metadata": {
    "collapsed": false
   },
   "outputs": [
    {
     "name": "stdout",
     "output_type": "stream",
     "text": [
      "'This is the first line of the file.\\nSecond line of the file\\nThid  line of the file\\nFourth  line of the file\\nThe last line of the file'\n",
      "\n",
      "''\n"
     ]
    }
   ],
   "source": [
    "print repr(f.read()) # read all characters as a string\n",
    "print\n",
    "print repr(f.read())\n",
    "f.close()"
   ]
  },
  {
   "cell_type": "markdown",
   "metadata": {},
   "source": [
    "f.readline() はファイルから 1 行だけを読み取ります。改行文字 (\\n) は読み出された文字列の終端に残ります。改行が省略されるのは、ファイルが改行で終わっていない場合の最終行のみです。これは、戻り値があいまいでないようにするためです; f.readline() が空の文字列を返したら、ファイルの終端に達したことが分かります。一方、空行は '\\n' 、すなわち改行 1 文字だけからなる文字列で表現されます。"
   ]
  },
  {
   "cell_type": "code",
   "execution_count": 16,
   "metadata": {
    "collapsed": false
   },
   "outputs": [
    {
     "name": "stdout",
     "output_type": "stream",
     "text": [
      "'This is the first line of the file.\\n'\n",
      "'Second line of the file\\n'\n"
     ]
    }
   ],
   "source": [
    "f = open('workfile.txt', 'r')\n",
    "print repr(f.readline())\n",
    "print repr(f.readline())\n",
    "f.close()"
   ]
  },
  {
   "cell_type": "markdown",
   "metadata": {},
   "source": [
    "ファイルから複数行を読み取るには、ファイルオブジェクトに対してループを書く方法があります。この方法はメモリを効率的に使え、高速で、簡潔なコードになります:"
   ]
  },
  {
   "cell_type": "code",
   "execution_count": 17,
   "metadata": {
    "collapsed": false
   },
   "outputs": [
    {
     "name": "stdout",
     "output_type": "stream",
     "text": [
      "This is the first line of the file.\n",
      "Second line of the file\n",
      "Thid  line of the file\n",
      "Fourth  line of the file\n",
      "The last line of the file\n"
     ]
    }
   ],
   "source": [
    "f = open('workfile.txt', 'r')\n",
    "for line in f:\n",
    "    print line,"
   ]
  },
  {
   "cell_type": "markdown",
   "metadata": {},
   "source": [
    "ファイルのすべての行をリスト形式で読み取りたいなら、list(f) や f.readlines() を使うこともできます。\n",
    "\n",
    "f.write(string) は、 string の内容をファイルに書き込み、 None を返します。"
   ]
  },
  {
   "cell_type": "code",
   "execution_count": 18,
   "metadata": {
    "collapsed": true
   },
   "outputs": [],
   "source": [
    "f = open('workfile2.txt', 'w')\n",
    "f.write(\"This is a test\\n\")"
   ]
  },
  {
   "cell_type": "markdown",
   "metadata": {},
   "source": [
    "文字列以外のものを出力したい場合、まず文字列に変換してやる必要があります:"
   ]
  },
  {
   "cell_type": "code",
   "execution_count": 19,
   "metadata": {
    "collapsed": true
   },
   "outputs": [],
   "source": [
    "value = ('the answer', 42)\n",
    "s = str(value)\n",
    "f.write(s)\n",
    "f.close()"
   ]
  },
  {
   "cell_type": "markdown",
   "metadata": {},
   "source": [
    "【Jupyter Notebook向けの処理】\n",
    "workfile2.txtの内容を表示します。"
   ]
  },
  {
   "cell_type": "code",
   "execution_count": 20,
   "metadata": {
    "collapsed": false
   },
   "outputs": [
    {
     "name": "stdout",
     "output_type": "stream",
     "text": [
      "This is a test\n",
      "('the answer', 42)\n"
     ]
    }
   ],
   "source": [
    "!type workfile2.txt"
   ]
  },
  {
   "cell_type": "markdown",
   "metadata": {},
   "source": [
    "f.tell() は、ファイルオブジェクトが指しているあるファイル中の位置を示す整数を、ファイルの先頭からのバイト数で図った値で返します。ファイルオブジェクトの位置を変更するには、 f.seek(offset,  from_what) を使います。ファイル位置は基準点 (reference point) にオフセット値 offset を足して計算されます。参照点は from_what 引数で選びます。 from_what の値が 0 ならばファイルの先頭から測り、 1 ならば現在のファイル位置を使い、2 ならばファイルの終端を参照点として使います。 from_what は省略することができ、デフォルトの値は 0 、すなわち参照点としてファイルの先頭を使います:"
   ]
  },
  {
   "cell_type": "code",
   "execution_count": 21,
   "metadata": {
    "collapsed": false
   },
   "outputs": [
    {
     "name": "stdout",
     "output_type": "stream",
     "text": [
      "5\n",
      "13\n",
      "d\n"
     ]
    }
   ],
   "source": [
    "f = open('workfile3.txt', 'r+')\n",
    "f.write('0123456789abcdef')\n",
    "f.seek(5)      # Go to the 6th byte in the file\n",
    "print f.read(1)\n",
    "f.seek(-3, 2)  # Go to the 3rd byte before the end\n",
    "print f.tell() # Get postion in the file\n",
    "print f.read(1)"
   ]
  },
  {
   "cell_type": "markdown",
   "metadata": {},
   "source": [
    "ファイルが用済みになったら、 f.close() を呼び出してファイルを閉じ、ファイルを開くために取られていたシステム資源を解放します。 f.close() を呼び出した後、そのファイルオブジェクトを使おうとすると自動的に失敗します:"
   ]
  },
  {
   "cell_type": "code",
   "execution_count": 22,
   "metadata": {
    "collapsed": false
   },
   "outputs": [
    {
     "ename": "ValueError",
     "evalue": "I/O operation on closed file",
     "output_type": "error",
     "traceback": [
      "\u001b[1;31m---------------------------------------------------------------------------\u001b[0m",
      "\u001b[1;31mValueError\u001b[0m                                Traceback (most recent call last)",
      "\u001b[1;32m<ipython-input-22-94b03372b7c6>\u001b[0m in \u001b[0;36m<module>\u001b[1;34m()\u001b[0m\n\u001b[0;32m      1\u001b[0m \u001b[0mf\u001b[0m\u001b[1;33m.\u001b[0m\u001b[0mclose\u001b[0m\u001b[1;33m(\u001b[0m\u001b[1;33m)\u001b[0m\u001b[1;33m\u001b[0m\u001b[0m\n\u001b[1;32m----> 2\u001b[1;33m \u001b[0mf\u001b[0m\u001b[1;33m.\u001b[0m\u001b[0mread\u001b[0m\u001b[1;33m(\u001b[0m\u001b[1;33m)\u001b[0m\u001b[1;33m\u001b[0m\u001b[0m\n\u001b[0m",
      "\u001b[1;31mValueError\u001b[0m: I/O operation on closed file"
     ]
    }
   ],
   "source": [
    "f.close()\n",
    "f.read()"
   ]
  },
  {
   "cell_type": "markdown",
   "metadata": {},
   "source": [
    "ファイルオブジェクトを扱うときに with キーワードを使うのは良い習慣です。 with を使うと、処理中に例外が発生しても必ず最後にファイルを閉じることができます。同じことを try-finally を使って書くよりずっと簡潔に書けます:"
   ]
  },
  {
   "cell_type": "code",
   "execution_count": 23,
   "metadata": {
    "collapsed": false
   },
   "outputs": [
    {
     "name": "stdout",
     "output_type": "stream",
     "text": [
      "True\n"
     ]
    }
   ],
   "source": [
    "with open('workfile.txt', 'r') as f:\n",
    "    read_data = f.read()\n",
    "print f.closed"
   ]
  },
  {
   "cell_type": "markdown",
   "metadata": {},
   "source": [
    "ファイルオブジェクトには、他にも isatty() や truncate() といった、あまり使われないメソッドがあります。ファイルオブジェクトについての完全なガイドは、ライブラリリファレンスを参照してください。"
   ]
  },
  {
   "cell_type": "markdown",
   "metadata": {},
   "source": [
    "# 7.2.2. json による構造化されたデータの保存\n",
    "文字列は簡単にファイルに書き込んだり、ファイルから読み込んだりすることができます。数値の場合には少し努力が必要です。というのも、read() メソッドは文字列しか返さないため、int() のような関数にその文字列を渡して、たとえば文字列 '123' のような文字列を、数値 123 に変換しなくてはならないからです。もっと複雑なデータ型、例えば入れ子になったリストや辞書の場合、手作業でのパースやシリアライズは困難になります。\n",
    "\n",
    "ユーザが毎回コードを書いたりデバッグしたりして複雑なデータ型をファイルに保存するかわりに、Python では一般的なデータ交換形式である JSON (JavaScript Object Notation) を使うことができます。この標準モジュール json は、Python のデータ 階層を取り、文字列表現に変換します。この処理は **シリアライズ** (serializing) と呼ばれます。文字列表現からデータを再構築することは、デシリアライズ (deserializing) と呼ばれます。**シリアライズ**されてからデシリアライズされるまでの間に、オブジェクトの文字列表現はファイルやデータの形で保存したり、ネットワークを通じて離れたマシンに送ったりすることができます。\n",
    "\n",
    "**注釈** JSON 形式は現代的なアプリケーションでデータをやりとりする際によく使われます。多くのプログラマーが既に JSON になじんでいるため、JSON はデータの相互交換をする場合の良い選択肢です。\n",
    "\n",
    "\n",
    "オブジェクト x があり、その JSON 形式の文字列表現を見るには、単純な1行のコードを書くだけです:"
   ]
  },
  {
   "cell_type": "code",
   "execution_count": 24,
   "metadata": {
    "collapsed": false
   },
   "outputs": [
    {
     "name": "stdout",
     "output_type": "stream",
     "text": [
      "(1.23, 'test', ['a', 'b', 'c', 'd', 'e', '\\n'], {'y': 7, 'x': 5.0}, u'\\u65e5\\u672c\\u8a9e\\u306fOK?')\n",
      "\n",
      "'[1.23, \"test\", [\"a\", \"b\", \"c\", \"d\", \"e\", \"\\\\n\"], {\"y\": 7, \"x\": 5.0}, \"\\\\u65e5\\\\u672c\\\\u8a9e\\\\u306fOK?\"]'\n"
     ]
    }
   ],
   "source": [
    "import json\n",
    "data = (1.23, 'test', [c for c in 'abcde\\n'], \n",
    "        {'x':5.0, 'y':7}, u\"日本語はOK?\")\n",
    "print repr(data)\n",
    "print\n",
    "\n",
    "jsondata = json.dumps(data) # convert to json\n",
    "print repr(jsondata)"
   ]
  },
  {
   "cell_type": "markdown",
   "metadata": {},
   "source": [
    "逆にデシリアライズするには、次のように書くことができます。"
   ]
  },
  {
   "cell_type": "code",
   "execution_count": 25,
   "metadata": {
    "collapsed": false
   },
   "outputs": [
    {
     "name": "stdout",
     "output_type": "stream",
     "text": [
      "[1.23, u'test', [u'a', u'b', u'c', u'd', u'e', u'\\n'], {u'y': 7, u'x': 5.0}, u'\\u65e5\\u672c\\u8a9e\\u306fOK?']\n"
     ]
    }
   ],
   "source": [
    "x = json.loads(jsondata)    # convert from json\n",
    "print repr(x)"
   ]
  },
  {
   "cell_type": "markdown",
   "metadata": {},
   "source": [
    "dumps() に似た関数に、dump() があり、こちらは単純にオブジェクトをファイルにシリアライズします。f が書き込み用に開かれた file object だとすると、次のように書くことができます。"
   ]
  },
  {
   "cell_type": "code",
   "execution_count": 26,
   "metadata": {
    "collapsed": true
   },
   "outputs": [],
   "source": [
    "with open(\"data.json\", \"w\") as f:\n",
    "  json.dump(data, f)"
   ]
  },
  {
   "cell_type": "markdown",
   "metadata": {},
   "source": [
    "逆にデシリアライズするには、f が読み込み用に開かれた file object だとすると、次のようになります。"
   ]
  },
  {
   "cell_type": "code",
   "execution_count": 27,
   "metadata": {
    "collapsed": false
   },
   "outputs": [
    {
     "name": "stdout",
     "output_type": "stream",
     "text": [
      "[1.23, u'test', [u'a', u'b', u'c', u'd', u'e', u'\\n'], {u'y': 7, u'x': 5.0}, u'\\u65e5\\u672c\\u8a9e\\u306fOK?']\n"
     ]
    }
   ],
   "source": [
    "with open(\"data.json\", \"r\") as f:\n",
    "  x = json.load(f)\n",
    "  print repr(x)"
   ]
  },
  {
   "cell_type": "markdown",
   "metadata": {},
   "source": [
    "**参考** pickle - pickle モジュール\n",
    "JSON とは対照的に、 pickle は任意の複雑な Python オブジェクトをシリアライズ可能なプロトコルです。しかし、Python に特有のプロトコルで、他の言語で記述されたアプリケーションと通信するのには使えません。さらに、デフォルトでは安全でなく、信頼できない送信元から送られてきた、スキルのある攻撃者によって生成された pickle データをデシリアライズすると、攻撃者により任意のコードが実行されてしまいます。"
   ]
  },
  {
   "cell_type": "markdown",
   "metadata": {},
   "source": [
    "下記はpickleの使用例です(シリアライズと、逆シリアライズ)。"
   ]
  },
  {
   "cell_type": "code",
   "execution_count": 28,
   "metadata": {
    "collapsed": false
   },
   "outputs": [
    {
     "name": "stdout",
     "output_type": "stream",
     "text": [
      "(1.23, 'test', ['a', 'b', 'c', 'd', 'e', '\\n'], {'y': 7, 'x': 5.0}, u'\\u65e5\\u672c\\u8a9e\\u306fOK?')\n",
      "\n",
      "\"(F1.23\\nS'test'\\np0\\n(lp1\\nS'a'\\np2\\naS'b'\\np3\\naS'c'\\np4\\naS'd'\\np5\\naS'e'\\np6\\naS'\\\\n'\\np7\\na(dp8\\nS'y'\\np9\\nI7\\nsS'x'\\np10\\nF5.0\\nsV\\\\u65e5\\\\u672c\\\\u8a9e\\\\u306fOK?\\np11\\ntp12\\n.\"\n",
      "\n",
      "(1.23, 'test', ['a', 'b', 'c', 'd', 'e', '\\n'], {'y': 7, 'x': 5.0}, u'\\u65e5\\u672c\\u8a9e\\u306fOK?')\n"
     ]
    }
   ],
   "source": [
    "import pickle\n",
    "data = (1.23, 'test', [c for c in 'abcde\\n'], \n",
    "        {'x':5.0, 'y':7}, u\"日本語はOK?\")\n",
    "print data\n",
    "print\n",
    "\n",
    "pickledata = pickle.dumps(data)\n",
    "print repr(pickledata)\n",
    "print\n",
    "\n",
    "x = pickle.loads(pickledata)\n",
    "print repr(x)"
   ]
  },
  {
   "cell_type": "markdown",
   "metadata": {},
   "source": [
    "下記はpickleの使用例です(ファイルへのシリアライズと、逆シリアライズ)。"
   ]
  },
  {
   "cell_type": "code",
   "execution_count": 29,
   "metadata": {
    "collapsed": false
   },
   "outputs": [
    {
     "name": "stdout",
     "output_type": "stream",
     "text": [
      "(1.23, 'test', ['a', 'b', 'c', 'd', 'e', '\\n'], {'y': 7, 'x': 5.0}, u'\\u65e5\\u672c\\u8a9e\\u306fOK?')\n"
     ]
    }
   ],
   "source": [
    "with open(\"data.pickle\", \"w\") as f:\n",
    "  pickle.dump(data, f)\n",
    "\n",
    "with open(\"data.pickle\", \"r\") as f:\n",
    "  x = pickle.load(f)\n",
    "  print x"
   ]
  }
 ],
 "metadata": {
  "kernelspec": {
   "display_name": "Python 2",
   "language": "python",
   "name": "python2"
  },
  "language_info": {
   "codemirror_mode": {
    "name": "ipython",
    "version": 2
   },
   "file_extension": ".py",
   "mimetype": "text/x-python",
   "name": "python",
   "nbconvert_exporter": "python",
   "pygments_lexer": "ipython2",
   "version": "2.7.11"
  }
 },
 "nbformat": 4,
 "nbformat_minor": 0
}
